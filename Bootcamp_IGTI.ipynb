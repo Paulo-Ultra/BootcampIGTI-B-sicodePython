{
  "nbformat": 4,
  "nbformat_minor": 0,
  "metadata": {
    "colab": {
      "name": "Bootcamp IGTI.ipynb",
      "provenance": [],
      "toc_visible": true,
      "authorship_tag": "ABX9TyPOIFOctpvq+v+zx/bue4A2",
      "include_colab_link": true
    },
    "kernelspec": {
      "name": "python3",
      "display_name": "Python 3"
    },
    "language_info": {
      "name": "python"
    }
  },
  "cells": [
    {
      "cell_type": "markdown",
      "metadata": {
        "id": "view-in-github",
        "colab_type": "text"
      },
      "source": [
        "<a href=\"https://colab.research.google.com/github/Paulo-Ultra/BootcampIGTI-B-sicodePython/blob/main/Bootcamp_IGTI.ipynb\" target=\"_parent\"><img src=\"https://colab.research.google.com/assets/colab-badge.svg\" alt=\"Open In Colab\"/></a>"
      ]
    },
    {
      "cell_type": "markdown",
      "metadata": {
        "id": "cp_o45H1Kfgu"
      },
      "source": [
        "# Primeiros Passos em Python"
      ]
    },
    {
      "cell_type": "code",
      "metadata": {
        "colab": {
          "base_uri": "https://localhost:8080/"
        },
        "id": "b7CqLUCRc6P4",
        "outputId": "deabc1c3-bd56-4f95-980e-7f56ad2f4c00"
      },
      "source": [
        "print (\"Olá galera!!!\")"
      ],
      "execution_count": null,
      "outputs": [
        {
          "output_type": "stream",
          "name": "stdout",
          "text": [
            "Olá galera!!!\n"
          ]
        }
      ]
    },
    {
      "cell_type": "code",
      "metadata": {
        "colab": {
          "base_uri": "https://localhost:8080/"
        },
        "id": "OgjaWs0veqdr",
        "outputId": "a7543921-372a-442f-a85c-978916376873"
      },
      "source": [
        "5 + 5"
      ],
      "execution_count": null,
      "outputs": [
        {
          "output_type": "execute_result",
          "data": {
            "text/plain": [
              "10"
            ]
          },
          "metadata": {},
          "execution_count": 2
        }
      ]
    },
    {
      "cell_type": "code",
      "metadata": {
        "colab": {
          "base_uri": "https://localhost:8080/"
        },
        "id": "kbEZdt9oe0EE",
        "outputId": "9227210d-8826-400f-e7c7-e35bed13f165"
      },
      "source": [
        "print(5+5)"
      ],
      "execution_count": null,
      "outputs": [
        {
          "output_type": "stream",
          "name": "stdout",
          "text": [
            "10\n"
          ]
        }
      ]
    },
    {
      "cell_type": "code",
      "metadata": {
        "id": "e_kvaK67e8AJ"
      },
      "source": [
        "a = 5"
      ],
      "execution_count": null,
      "outputs": []
    },
    {
      "cell_type": "code",
      "metadata": {
        "colab": {
          "base_uri": "https://localhost:8080/"
        },
        "id": "xo_vPxFXfHzU",
        "outputId": "a2a1f753-fafe-4155-80c3-d419a027f2ed"
      },
      "source": [
        "a"
      ],
      "execution_count": null,
      "outputs": [
        {
          "output_type": "execute_result",
          "data": {
            "text/plain": [
              "5"
            ]
          },
          "metadata": {},
          "execution_count": 5
        }
      ]
    },
    {
      "cell_type": "code",
      "metadata": {
        "colab": {
          "base_uri": "https://localhost:8080/"
        },
        "id": "_ovc2juKfU8e",
        "outputId": "701908ad-30cf-43d5-a761-7698a965fce4"
      },
      "source": [
        "print(a)"
      ],
      "execution_count": null,
      "outputs": [
        {
          "output_type": "stream",
          "name": "stdout",
          "text": [
            "5\n"
          ]
        }
      ]
    },
    {
      "cell_type": "code",
      "metadata": {
        "id": "CSB85yOWgW-G"
      },
      "source": [
        "b = 10"
      ],
      "execution_count": null,
      "outputs": []
    },
    {
      "cell_type": "code",
      "metadata": {
        "colab": {
          "base_uri": "https://localhost:8080/"
        },
        "id": "rk_LY0HxgY2V",
        "outputId": "69b72efc-9e24-42d8-9f17-114dd7441bf9"
      },
      "source": [
        "a + b"
      ],
      "execution_count": null,
      "outputs": [
        {
          "output_type": "execute_result",
          "data": {
            "text/plain": [
              "15"
            ]
          },
          "metadata": {},
          "execution_count": 8
        }
      ]
    },
    {
      "cell_type": "code",
      "metadata": {
        "id": "oa-OTTbBgkdA"
      },
      "source": [
        "y ='Ok'"
      ],
      "execution_count": null,
      "outputs": []
    },
    {
      "cell_type": "code",
      "metadata": {
        "colab": {
          "base_uri": "https://localhost:8080/"
        },
        "id": "-a6axrmzgrs-",
        "outputId": "720b266e-8154-4f06-8d4e-fa22559b5b60"
      },
      "source": [
        "print(y)"
      ],
      "execution_count": null,
      "outputs": [
        {
          "output_type": "stream",
          "name": "stdout",
          "text": [
            "Ok\n"
          ]
        }
      ]
    },
    {
      "cell_type": "code",
      "metadata": {
        "colab": {
          "base_uri": "https://localhost:8080/"
        },
        "id": "90o9uLw-g43m",
        "outputId": "1f04ff2c-337b-4184-d494-52cd975fc0b2"
      },
      "source": [
        "10 +++++ 50"
      ],
      "execution_count": null,
      "outputs": [
        {
          "output_type": "execute_result",
          "data": {
            "text/plain": [
              "60"
            ]
          },
          "metadata": {},
          "execution_count": 13
        }
      ]
    },
    {
      "cell_type": "code",
      "metadata": {
        "colab": {
          "base_uri": "https://localhost:8080/"
        },
        "id": "kQq2uTgIg-T9",
        "outputId": "39f24f6a-03de-4e80-fa47-d8bccd88af75"
      },
      "source": [
        "10 ** 2"
      ],
      "execution_count": null,
      "outputs": [
        {
          "output_type": "execute_result",
          "data": {
            "text/plain": [
              "100"
            ]
          },
          "metadata": {},
          "execution_count": 14
        }
      ]
    },
    {
      "cell_type": "code",
      "metadata": {
        "colab": {
          "base_uri": "https://localhost:8080/"
        },
        "id": "-eEtwgZ-hBCk",
        "outputId": "4b7a739e-aef5-466a-913a-d46cd2e65996"
      },
      "source": [
        "10 ------- 2"
      ],
      "execution_count": null,
      "outputs": [
        {
          "output_type": "execute_result",
          "data": {
            "text/plain": [
              "8"
            ]
          },
          "metadata": {},
          "execution_count": 16
        }
      ]
    },
    {
      "cell_type": "markdown",
      "metadata": {
        "id": "axwv4beRh5dv"
      },
      "source": [
        "## Indentação em Python (Aula 2)"
      ]
    },
    {
      "cell_type": "code",
      "metadata": {
        "colab": {
          "base_uri": "https://localhost:8080/"
        },
        "id": "wUXyZ_R-h_w1",
        "outputId": "30f10f6f-9b99-4a17-d91f-8436d866ecdf"
      },
      "source": [
        "if 10 > 5:\n",
        "  print(\"Dez é maior que cinco\")"
      ],
      "execution_count": null,
      "outputs": [
        {
          "output_type": "stream",
          "name": "stdout",
          "text": [
            "Dez é maior que cinco\n"
          ]
        }
      ]
    },
    {
      "cell_type": "code",
      "metadata": {
        "colab": {
          "base_uri": "https://localhost:8080/"
        },
        "id": "J36Cwppm2h7d",
        "outputId": "95d19baf-cc4e-4cb2-b249-2e7034b164fd"
      },
      "source": [
        "if 10 > 5:\n",
        "  print('Dez é maior que cinco')\n",
        "if 7>3:\n",
        "  print(\"Sete é maior que três\")"
      ],
      "execution_count": null,
      "outputs": [
        {
          "output_type": "stream",
          "name": "stdout",
          "text": [
            "Dez é maior que cinco\n",
            "Sete é maior que três\n"
          ]
        }
      ]
    },
    {
      "cell_type": "markdown",
      "metadata": {
        "id": "zDc-uf4V2xEH"
      },
      "source": [
        "## Variáveis em Python (Aula 3)"
      ]
    },
    {
      "cell_type": "code",
      "metadata": {
        "colab": {
          "base_uri": "https://localhost:8080/"
        },
        "id": "PLnZ3ASZ20H9",
        "outputId": "afc4f3f7-b646-47fc-a5bd-23a96a9f712d"
      },
      "source": [
        "x = 5\n",
        "print(x)"
      ],
      "execution_count": null,
      "outputs": [
        {
          "output_type": "stream",
          "name": "stdout",
          "text": [
            "5\n"
          ]
        }
      ]
    },
    {
      "cell_type": "code",
      "metadata": {
        "colab": {
          "base_uri": "https://localhost:8080/"
        },
        "id": "wvgON5_X3qrn",
        "outputId": "de05c31a-7a1d-48d4-8c24-d13d943b324c"
      },
      "source": [
        "y = 'Python'\n",
        "print(y)"
      ],
      "execution_count": null,
      "outputs": [
        {
          "output_type": "stream",
          "name": "stdout",
          "text": [
            "Python\n"
          ]
        }
      ]
    },
    {
      "cell_type": "code",
      "metadata": {
        "colab": {
          "base_uri": "https://localhost:8080/"
        },
        "id": "7mIF2uuB3xwd",
        "outputId": "3185583a-2df3-47d1-8cfe-b73b70dbc99d"
      },
      "source": [
        "z = \"Python\"\n",
        "print(z)"
      ],
      "execution_count": null,
      "outputs": [
        {
          "output_type": "stream",
          "name": "stdout",
          "text": [
            "Python\n"
          ]
        }
      ]
    },
    {
      "cell_type": "code",
      "metadata": {
        "colab": {
          "base_uri": "https://localhost:8080/"
        },
        "id": "9Ku5AHRb37ix",
        "outputId": "03afadc8-588a-479f-a35e-35854b98ea94"
      },
      "source": [
        "z = \"Java\"\n",
        "print(z)"
      ],
      "execution_count": null,
      "outputs": [
        {
          "output_type": "stream",
          "name": "stdout",
          "text": [
            "Java\n"
          ]
        }
      ]
    },
    {
      "cell_type": "code",
      "metadata": {
        "id": "xgQXePBh4H87"
      },
      "source": [
        "a = \"Letra Minúscula\"\n",
        "A = 'Letra Maiúscula'"
      ],
      "execution_count": null,
      "outputs": []
    },
    {
      "cell_type": "code",
      "metadata": {
        "colab": {
          "base_uri": "https://localhost:8080/"
        },
        "id": "LO9ZRtvm4Kua",
        "outputId": "c0b4547d-fee1-4944-bbd2-64fed8c8c1b7"
      },
      "source": [
        "print(a, A)"
      ],
      "execution_count": null,
      "outputs": [
        {
          "output_type": "stream",
          "name": "stdout",
          "text": [
            "Letra Minúscula Letra Maiúscula\n"
          ]
        }
      ]
    },
    {
      "cell_type": "markdown",
      "metadata": {
        "id": "f1SNtvJX6BU2"
      },
      "source": [
        "## Comentários em Python"
      ]
    },
    {
      "cell_type": "code",
      "metadata": {
        "id": "7WmPCwDr6FDb"
      },
      "source": [
        "# Comentário em Python"
      ],
      "execution_count": null,
      "outputs": []
    },
    {
      "cell_type": "code",
      "metadata": {
        "id": "fDHAItMC6Vzl"
      },
      "source": [
        "#Criando uma variável do tipo numérico em Python\n",
        "variavel = 50"
      ],
      "execution_count": null,
      "outputs": []
    },
    {
      "cell_type": "code",
      "metadata": {
        "colab": {
          "base_uri": "https://localhost:8080/"
        },
        "id": "IkldyiPy6gAf",
        "outputId": "6bd3ca14-22ac-44b3-80d5-0ea4afe3f0de"
      },
      "source": [
        "print(variavel)"
      ],
      "execution_count": null,
      "outputs": [
        {
          "output_type": "stream",
          "name": "stdout",
          "text": [
            "50\n"
          ]
        }
      ]
    },
    {
      "cell_type": "code",
      "metadata": {
        "id": "I7Xg4wt96jAO"
      },
      "source": [
        "#Criando uma variável do tipo String\n",
        "texto = 'Variável tipo String'"
      ],
      "execution_count": null,
      "outputs": []
    },
    {
      "cell_type": "code",
      "metadata": {
        "colab": {
          "base_uri": "https://localhost:8080/"
        },
        "id": "ioqVXyRn6vM6",
        "outputId": "a860c4d2-fb64-49e9-f5a2-784033a31720"
      },
      "source": [
        "print(texto)"
      ],
      "execution_count": null,
      "outputs": [
        {
          "output_type": "stream",
          "name": "stdout",
          "text": [
            "Variável tipo String\n"
          ]
        }
      ]
    },
    {
      "cell_type": "code",
      "metadata": {
        "id": "kK46tzqd7Y7R"
      },
      "source": [
        "bebida = \"água\" #Criando uma variável de bebida"
      ],
      "execution_count": null,
      "outputs": []
    },
    {
      "cell_type": "code",
      "metadata": {
        "colab": {
          "base_uri": "https://localhost:8080/"
        },
        "id": "xZuhriJ47gSw",
        "outputId": "08f23aa7-a905-49dc-b613-f5df6075ef48"
      },
      "source": [
        "print(bebida)"
      ],
      "execution_count": null,
      "outputs": [
        {
          "output_type": "stream",
          "name": "stdout",
          "text": [
            "água\n"
          ]
        }
      ]
    },
    {
      "cell_type": "code",
      "metadata": {
        "id": "VC_CTbx57iPP"
      },
      "source": [
        "#Linha 1\n",
        "#Linha 2\n",
        "#Linha 3\n",
        "#Linha 4"
      ],
      "execution_count": null,
      "outputs": []
    },
    {
      "cell_type": "code",
      "metadata": {
        "colab": {
          "base_uri": "https://localhost:8080/",
          "height": 35
        },
        "id": "67DUUUN-7kF7",
        "outputId": "0b4b65f0-cba5-405a-fe13-1c03e43cb6e5"
      },
      "source": [
        "'''\n",
        "Linha 1\n",
        "Linha 2\n",
        "Linha 3\n",
        "Linha 4\n",
        "'''\n",
        "\n",
        "\n"
      ],
      "execution_count": null,
      "outputs": [
        {
          "output_type": "execute_result",
          "data": {
            "application/vnd.google.colaboratory.intrinsic+json": {
              "type": "string"
            },
            "text/plain": [
              "'\\nLinha 1\\nLinha 2\\nLinha 3\\nLinha 4\\n'"
            ]
          },
          "metadata": {},
          "execution_count": 44
        }
      ]
    },
    {
      "cell_type": "code",
      "metadata": {
        "colab": {
          "base_uri": "https://localhost:8080/",
          "height": 35
        },
        "id": "IkZv2uaE8MQO",
        "outputId": "dbdcd7b2-02be-4371-e10b-becc474d6657"
      },
      "source": [
        "\"\"\"\n",
        "Linha 1\n",
        "Linha 2\n",
        "Linha 3\n",
        "Linha 4\n",
        "\"\"\"\n"
      ],
      "execution_count": null,
      "outputs": [
        {
          "output_type": "execute_result",
          "data": {
            "application/vnd.google.colaboratory.intrinsic+json": {
              "type": "string"
            },
            "text/plain": [
              "'\\nLinha 1\\nLinha 2\\nLinha 3\\nLinha 4\\n'"
            ]
          },
          "metadata": {},
          "execution_count": 45
        }
      ]
    },
    {
      "cell_type": "markdown",
      "metadata": {
        "id": "rsw36OH9_ovJ"
      },
      "source": [
        "# Tipos de Dados "
      ]
    },
    {
      "cell_type": "markdown",
      "metadata": {
        "id": "hJOFeddE_1uA"
      },
      "source": [
        "## Aula 1"
      ]
    },
    {
      "cell_type": "markdown",
      "metadata": {
        "id": "EFSyZ0thlkRt"
      },
      "source": [
        "### ***String*** = São dados do tipo texto"
      ]
    },
    {
      "cell_type": "code",
      "metadata": {
        "id": "Bext8cjVmOOF"
      },
      "source": [
        "variavel = 'String é um dado do tipo texto'"
      ],
      "execution_count": null,
      "outputs": []
    },
    {
      "cell_type": "markdown",
      "metadata": {
        "id": "_dDyfSpml5r8"
      },
      "source": [
        "###Integer = Números inteiros"
      ]
    },
    {
      "cell_type": "code",
      "metadata": {
        "id": "VhXacfoXmZGF"
      },
      "source": [
        " a = 5"
      ],
      "execution_count": null,
      "outputs": []
    },
    {
      "cell_type": "markdown",
      "metadata": {
        "id": "JXEqds4DmDr1"
      },
      "source": [
        "###Float = Números quebrados"
      ]
    },
    {
      "cell_type": "code",
      "metadata": {
        "id": "0Sn9hEpGmi9t"
      },
      "source": [
        "saldo_bancario = (15.65, 205.878)"
      ],
      "execution_count": null,
      "outputs": []
    },
    {
      "cell_type": "markdown",
      "metadata": {
        "id": "vbYC11SJmtTm"
      },
      "source": [
        "**Importante** - As casas decimais devem ser separadas por ponto, **jamais vírgulas**. As vírgulas são sempre utilizadas para separar os valores."
      ]
    },
    {
      "cell_type": "markdown",
      "metadata": {
        "id": "hlUBHo-JnRCZ"
      },
      "source": [
        "###Boolean = São dados binários, que vão dizer se uma condição é \"true\" ou \"false\""
      ]
    },
    {
      "cell_type": "code",
      "metadata": {
        "colab": {
          "base_uri": "https://localhost:8080/"
        },
        "id": "S4RvWY7AnoLm",
        "outputId": "a76a9065-fa54-48ec-c181-f9253e8a7e24"
      },
      "source": [
        "numero = 10 > 5\n",
        "print(numero)"
      ],
      "execution_count": null,
      "outputs": [
        {
          "output_type": "stream",
          "name": "stdout",
          "text": [
            "True\n"
          ]
        }
      ]
    },
    {
      "cell_type": "markdown",
      "metadata": {
        "id": "5lX14I8rnTqA"
      },
      "source": [
        ""
      ]
    },
    {
      "cell_type": "markdown",
      "metadata": {
        "id": "jKsLHOVqn6SK"
      },
      "source": [
        "## Aula 2 - String"
      ]
    },
    {
      "cell_type": "markdown",
      "metadata": {
        "id": "MU_Lqg34rodh"
      },
      "source": [
        "###Criando uma String"
      ]
    },
    {
      "cell_type": "code",
      "metadata": {
        "id": "w4nshQFgn_pX"
      },
      "source": [
        "rua = 'Rua do Catete'\n",
        "numero = \"153\"\n",
        "bairro = 'Catete'\n",
        "cidade = 'Rio de Janeiro'\n",
        "estado = \"RJ\"\n",
        "cep = '22220-000'"
      ],
      "execution_count": null,
      "outputs": []
    },
    {
      "cell_type": "code",
      "metadata": {
        "colab": {
          "base_uri": "https://localhost:8080/"
        },
        "id": "nxORLsKcsjt0",
        "outputId": "1a5d7d29-deef-4df1-bda3-4b8055e0a13c"
      },
      "source": [
        "print(rua)"
      ],
      "execution_count": null,
      "outputs": [
        {
          "output_type": "stream",
          "name": "stdout",
          "text": [
            "Rua do Catete\n"
          ]
        }
      ]
    },
    {
      "cell_type": "markdown",
      "metadata": {
        "id": "m-7wCpnirvpe"
      },
      "source": [
        "###Concatenando uma String"
      ]
    },
    {
      "cell_type": "code",
      "metadata": {
        "id": "K6qDsmCKryDb"
      },
      "source": [
        "endereco = rua + numero + cidade + estado + cep"
      ],
      "execution_count": null,
      "outputs": []
    },
    {
      "cell_type": "code",
      "metadata": {
        "colab": {
          "base_uri": "https://localhost:8080/"
        },
        "id": "E-zODnKOtAVO",
        "outputId": "0e1537d9-d28a-45e9-c5d6-c577a9b53aef"
      },
      "source": [
        "print(endereco)"
      ],
      "execution_count": null,
      "outputs": [
        {
          "output_type": "stream",
          "name": "stdout",
          "text": [
            "Rua do Catete153Rio de JaneiroRJ22220-000\n"
          ]
        }
      ]
    },
    {
      "cell_type": "code",
      "metadata": {
        "id": "51ueLC1ytGlg"
      },
      "source": [
        "rua = 'Rua do Catete, '\n",
        "numero = \"153, \"\n",
        "bairro = 'Catete, '\n",
        "cidade = 'Rio de Janeiro, '\n",
        "estado = \"RJ, \"\n",
        "cep = '22220-000'"
      ],
      "execution_count": null,
      "outputs": []
    },
    {
      "cell_type": "code",
      "metadata": {
        "id": "CtzTaGfUtli9"
      },
      "source": [
        "endereco = rua + numero + cidade + estado + cep"
      ],
      "execution_count": null,
      "outputs": []
    },
    {
      "cell_type": "code",
      "metadata": {
        "colab": {
          "base_uri": "https://localhost:8080/"
        },
        "id": "xLe2c84qtO6l",
        "outputId": "e08f69e3-d995-429a-b82e-ff4fff425fa1"
      },
      "source": [
        "print(endereco)"
      ],
      "execution_count": null,
      "outputs": [
        {
          "output_type": "stream",
          "name": "stdout",
          "text": [
            "Rua do Catete, 153, Rio de Janeiro, RJ, 22220-000\n"
          ]
        }
      ]
    },
    {
      "cell_type": "markdown",
      "metadata": {
        "id": "i6SNXCh1rykX"
      },
      "source": [
        "###Letras Maísculas"
      ]
    },
    {
      "cell_type": "code",
      "metadata": {
        "id": "gGK6rB47uXuD"
      },
      "source": [
        "endereco_maiuscula = endereco.upper()"
      ],
      "execution_count": null,
      "outputs": []
    },
    {
      "cell_type": "code",
      "metadata": {
        "colab": {
          "base_uri": "https://localhost:8080/"
        },
        "id": "HEA3H6mlufQD",
        "outputId": "c7944917-96d6-4375-8bc9-cc376582d07d"
      },
      "source": [
        "print(endereco_maiuscula)"
      ],
      "execution_count": null,
      "outputs": [
        {
          "output_type": "stream",
          "name": "stdout",
          "text": [
            "RUA DO CATETE, 153, RIO DE JANEIRO, RJ, 22220-000\n"
          ]
        }
      ]
    },
    {
      "cell_type": "markdown",
      "metadata": {
        "id": "DIAgRGGTr2R0"
      },
      "source": [
        "### Letras Minúsculas"
      ]
    },
    {
      "cell_type": "code",
      "metadata": {
        "id": "RVsPmSJ-ulip"
      },
      "source": [
        "endereco_minuscula = endereco.lower()"
      ],
      "execution_count": null,
      "outputs": []
    },
    {
      "cell_type": "code",
      "metadata": {
        "colab": {
          "base_uri": "https://localhost:8080/"
        },
        "id": "pxD9lirKus5C",
        "outputId": "11e9df46-d0f0-4078-be6d-4c8b3d443aa2"
      },
      "source": [
        "print(endereco_minuscula)"
      ],
      "execution_count": null,
      "outputs": [
        {
          "output_type": "stream",
          "name": "stdout",
          "text": [
            "rua do catete, 153, rio de janeiro, rj, 22220-000\n"
          ]
        }
      ]
    },
    {
      "cell_type": "markdown",
      "metadata": {
        "id": "povlQ9mr5bDE"
      },
      "source": [
        "### Outras funções úteis para lidar com String"
      ]
    },
    {
      "cell_type": "markdown",
      "metadata": {
        "id": "Y2LFQb8Y5UU3"
      },
      "source": [
        "![imagem.png](data:image/png;base64,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)"
      ]
    },
    {
      "cell_type": "markdown",
      "metadata": {
        "id": "pwDZBFb2vmCH"
      },
      "source": [
        "## Aula 3 - Integer"
      ]
    },
    {
      "cell_type": "markdown",
      "metadata": {
        "id": "auNtP003v21R"
      },
      "source": [
        "### Criando uma variável do tipo Integer"
      ]
    },
    {
      "cell_type": "code",
      "metadata": {
        "id": "wI5fo29dvqZt"
      },
      "source": [
        "x = 50"
      ],
      "execution_count": null,
      "outputs": []
    },
    {
      "cell_type": "code",
      "metadata": {
        "colab": {
          "base_uri": "https://localhost:8080/"
        },
        "id": "KlQjQHdOwCN-",
        "outputId": "55f0eb63-d8ec-407c-dcc2-c585d3916a8e"
      },
      "source": [
        "print(x)"
      ],
      "execution_count": null,
      "outputs": [
        {
          "output_type": "stream",
          "name": "stdout",
          "text": [
            "50\n"
          ]
        }
      ]
    },
    {
      "cell_type": "code",
      "metadata": {
        "id": "lpj7J0q5wFUN"
      },
      "source": [
        "y = -250"
      ],
      "execution_count": null,
      "outputs": []
    },
    {
      "cell_type": "code",
      "metadata": {
        "colab": {
          "base_uri": "https://localhost:8080/"
        },
        "id": "F8X2Z7-WwHX0",
        "outputId": "f2cad6ab-ad92-4a69-e8c0-3b04549f2ab1"
      },
      "source": [
        "print(y)"
      ],
      "execution_count": null,
      "outputs": [
        {
          "output_type": "stream",
          "name": "stdout",
          "text": [
            "-250\n"
          ]
        }
      ]
    },
    {
      "cell_type": "code",
      "metadata": {
        "id": "XG2xwk62wMZa"
      },
      "source": [
        "a = +50"
      ],
      "execution_count": null,
      "outputs": []
    },
    {
      "cell_type": "code",
      "metadata": {
        "colab": {
          "base_uri": "https://localhost:8080/"
        },
        "id": "ix3M5z0GwPR7",
        "outputId": "e2089376-eecd-4934-aaa3-b92d653156cd"
      },
      "source": [
        "print(a)"
      ],
      "execution_count": null,
      "outputs": [
        {
          "output_type": "stream",
          "name": "stdout",
          "text": [
            "50\n"
          ]
        }
      ]
    },
    {
      "cell_type": "markdown",
      "metadata": {
        "id": "mqHBA-ljwXu7"
      },
      "source": [
        "###Declarando o tipo de variável"
      ]
    },
    {
      "cell_type": "code",
      "metadata": {
        "id": "pB0cwr63wRnD"
      },
      "source": [
        "numero_alunos = int(50)"
      ],
      "execution_count": null,
      "outputs": []
    },
    {
      "cell_type": "code",
      "metadata": {
        "colab": {
          "base_uri": "https://localhost:8080/"
        },
        "id": "gnKkhpZ1wuPm",
        "outputId": "de0dde43-8ff9-4324-c19c-b3de06cba10d"
      },
      "source": [
        "print(numero_alunos)"
      ],
      "execution_count": null,
      "outputs": [
        {
          "output_type": "stream",
          "name": "stdout",
          "text": [
            "50\n"
          ]
        }
      ]
    },
    {
      "cell_type": "code",
      "metadata": {
        "colab": {
          "base_uri": "https://localhost:8080/"
        },
        "id": "n9Axm2wQw4Rj",
        "outputId": "f06c8dcb-e529-4b3e-de76-fc337e17fead"
      },
      "source": [
        "print(type(a))"
      ],
      "execution_count": null,
      "outputs": [
        {
          "output_type": "stream",
          "name": "stdout",
          "text": [
            "<class 'int'>\n"
          ]
        }
      ]
    },
    {
      "cell_type": "markdown",
      "metadata": {
        "id": "F1eCyZJZxWBA"
      },
      "source": [
        "### Divisão de Integer + Integer = Float"
      ]
    },
    {
      "cell_type": "code",
      "metadata": {
        "id": "71qTXWIgxd7y"
      },
      "source": [
        "divisao = 50/2"
      ],
      "execution_count": null,
      "outputs": []
    },
    {
      "cell_type": "code",
      "metadata": {
        "colab": {
          "base_uri": "https://localhost:8080/"
        },
        "id": "DlVnrhhsxj8I",
        "outputId": "824d1ca3-29a9-402c-af86-2a7e0369fa5a"
      },
      "source": [
        "print(divisao)"
      ],
      "execution_count": null,
      "outputs": [
        {
          "output_type": "stream",
          "name": "stdout",
          "text": [
            "25.0\n"
          ]
        }
      ]
    },
    {
      "cell_type": "code",
      "metadata": {
        "colab": {
          "base_uri": "https://localhost:8080/"
        },
        "id": "MO6kNcSRxmSR",
        "outputId": "561e7838-9814-43b6-e548-f858cd710bb7"
      },
      "source": [
        "print(type(divisao))"
      ],
      "execution_count": null,
      "outputs": [
        {
          "output_type": "stream",
          "name": "stdout",
          "text": [
            "<class 'float'>\n"
          ]
        }
      ]
    },
    {
      "cell_type": "code",
      "metadata": {
        "id": "emAQeo-Jx3p8"
      },
      "source": [
        "divisao = int(50/2)"
      ],
      "execution_count": null,
      "outputs": []
    },
    {
      "cell_type": "code",
      "metadata": {
        "colab": {
          "base_uri": "https://localhost:8080/"
        },
        "id": "J_vBOJ_Nx66y",
        "outputId": "443cea5f-0f89-45e3-8b2e-5ea0b565003b"
      },
      "source": [
        "print(divisao)"
      ],
      "execution_count": null,
      "outputs": [
        {
          "output_type": "stream",
          "name": "stdout",
          "text": [
            "25\n"
          ]
        }
      ]
    },
    {
      "cell_type": "code",
      "metadata": {
        "colab": {
          "base_uri": "https://localhost:8080/"
        },
        "id": "cYoakdYtx9Xa",
        "outputId": "28b6b91b-d426-4163-8db0-2435a6420509"
      },
      "source": [
        "print(type(divisao))"
      ],
      "execution_count": null,
      "outputs": [
        {
          "output_type": "stream",
          "name": "stdout",
          "text": [
            "<class 'int'>\n"
          ]
        }
      ]
    },
    {
      "cell_type": "markdown",
      "metadata": {
        "id": "I4M4-yQWyT-P"
      },
      "source": [
        "## Aula 4 Float"
      ]
    },
    {
      "cell_type": "code",
      "metadata": {
        "id": "KKO5WjQ3yYso"
      },
      "source": [
        "a = 2.5"
      ],
      "execution_count": null,
      "outputs": []
    },
    {
      "cell_type": "code",
      "metadata": {
        "colab": {
          "base_uri": "https://localhost:8080/"
        },
        "id": "PV8WN_k1zA_c",
        "outputId": "43be7e14-2f13-49fa-a1c1-bf0b45b384c6"
      },
      "source": [
        "print(type(a))"
      ],
      "execution_count": null,
      "outputs": [
        {
          "output_type": "stream",
          "name": "stdout",
          "text": [
            "<class 'float'>\n"
          ]
        }
      ]
    },
    {
      "cell_type": "code",
      "metadata": {
        "id": "7H8WcASzzDrx"
      },
      "source": [
        "b = -23.8"
      ],
      "execution_count": null,
      "outputs": []
    },
    {
      "cell_type": "code",
      "metadata": {
        "colab": {
          "base_uri": "https://localhost:8080/"
        },
        "id": "h98AlNrKzGRZ",
        "outputId": "b5c15743-f310-48ba-b733-a0a457e3baff"
      },
      "source": [
        "print(type(b))"
      ],
      "execution_count": null,
      "outputs": [
        {
          "output_type": "stream",
          "name": "stdout",
          "text": [
            "<class 'float'>\n"
          ]
        }
      ]
    },
    {
      "cell_type": "code",
      "metadata": {
        "id": "rYBfT376zJrw"
      },
      "source": [
        "c = 6,23"
      ],
      "execution_count": null,
      "outputs": []
    },
    {
      "cell_type": "code",
      "metadata": {
        "colab": {
          "base_uri": "https://localhost:8080/"
        },
        "id": "1CQPfQE2zL-2",
        "outputId": "a2381a07-2f11-4215-c17a-3daa8cd94459"
      },
      "source": [
        "print(type(c))"
      ],
      "execution_count": null,
      "outputs": [
        {
          "output_type": "stream",
          "name": "stdout",
          "text": [
            "<class 'tuple'>\n"
          ]
        }
      ]
    },
    {
      "cell_type": "code",
      "metadata": {
        "id": "x97-gM0azQNk"
      },
      "source": [
        "c = 6.23"
      ],
      "execution_count": null,
      "outputs": []
    },
    {
      "cell_type": "code",
      "metadata": {
        "colab": {
          "base_uri": "https://localhost:8080/"
        },
        "id": "FVJzX_u2zWLG",
        "outputId": "d03ad8f5-b8a7-48e4-8eee-60ea41b4953c"
      },
      "source": [
        "print(type(c))"
      ],
      "execution_count": null,
      "outputs": [
        {
          "output_type": "stream",
          "name": "stdout",
          "text": [
            "<class 'float'>\n"
          ]
        }
      ]
    },
    {
      "cell_type": "markdown",
      "metadata": {
        "id": "bUMWApXjzkH9"
      },
      "source": [
        "Float também pode ser números científicos com um \" e \" para indicar a potência de 10 "
      ]
    },
    {
      "cell_type": "code",
      "metadata": {
        "id": "HK1s_O4tzzj4"
      },
      "source": [
        "d = 35e3"
      ],
      "execution_count": null,
      "outputs": []
    },
    {
      "cell_type": "code",
      "metadata": {
        "colab": {
          "base_uri": "https://localhost:8080/"
        },
        "id": "SoSGOPXPz74A",
        "outputId": "5d5baa1a-53c0-4f9f-bea0-c9199cc07084"
      },
      "source": [
        "print(type(d))"
      ],
      "execution_count": null,
      "outputs": [
        {
          "output_type": "stream",
          "name": "stdout",
          "text": [
            "<class 'float'>\n"
          ]
        }
      ]
    },
    {
      "cell_type": "code",
      "metadata": {
        "id": "BRTMD13F0e6q"
      },
      "source": [
        "d = 35E3"
      ],
      "execution_count": null,
      "outputs": []
    },
    {
      "cell_type": "code",
      "metadata": {
        "colab": {
          "base_uri": "https://localhost:8080/"
        },
        "id": "kcaLcbQ40ixR",
        "outputId": "eaf99b6c-21fc-4dca-d1c1-8b9cdbcfadf8"
      },
      "source": [
        "print(type(d))"
      ],
      "execution_count": null,
      "outputs": [
        {
          "output_type": "stream",
          "name": "stdout",
          "text": [
            "<class 'float'>\n"
          ]
        }
      ]
    },
    {
      "cell_type": "code",
      "metadata": {
        "id": "48wcFINk0krp"
      },
      "source": [
        "e = -35E9"
      ],
      "execution_count": null,
      "outputs": []
    },
    {
      "cell_type": "code",
      "metadata": {
        "colab": {
          "base_uri": "https://localhost:8080/"
        },
        "id": "4mbaX9qz0oaL",
        "outputId": "224b8f13-6262-4c6d-eb49-ca5e6b57deca"
      },
      "source": [
        "print(type(e))"
      ],
      "execution_count": null,
      "outputs": [
        {
          "output_type": "stream",
          "name": "stdout",
          "text": [
            "<class 'float'>\n"
          ]
        }
      ]
    },
    {
      "cell_type": "markdown",
      "metadata": {
        "id": "juMsK3jl0zuz"
      },
      "source": [
        "## Aula 5 Operações com tipos de Dados em Python"
      ]
    },
    {
      "cell_type": "markdown",
      "metadata": {
        "id": "4vParQF_6RZO"
      },
      "source": [
        "###Boolean"
      ]
    },
    {
      "cell_type": "code",
      "metadata": {
        "colab": {
          "base_uri": "https://localhost:8080/"
        },
        "id": "7e0nIsIu6Od7",
        "outputId": "9fafb407-5166-402e-b01f-3a745db5672b"
      },
      "source": [
        "5 == 5"
      ],
      "execution_count": null,
      "outputs": [
        {
          "output_type": "execute_result",
          "data": {
            "text/plain": [
              "True"
            ]
          },
          "metadata": {},
          "execution_count": 47
        }
      ]
    },
    {
      "cell_type": "code",
      "metadata": {
        "colab": {
          "base_uri": "https://localhost:8080/"
        },
        "id": "bkPIpA6h7T5j",
        "outputId": "74043d24-d2ba-442b-a1e4-a550d6ebb044"
      },
      "source": [
        "5 == 4"
      ],
      "execution_count": null,
      "outputs": [
        {
          "output_type": "execute_result",
          "data": {
            "text/plain": [
              "False"
            ]
          },
          "metadata": {},
          "execution_count": 48
        }
      ]
    },
    {
      "cell_type": "code",
      "metadata": {
        "colab": {
          "base_uri": "https://localhost:8080/"
        },
        "id": "seKSjFco7Wvn",
        "outputId": "db2ed5d4-d3ba-427a-85a0-334307e46ed1"
      },
      "source": [
        "15 > 10"
      ],
      "execution_count": null,
      "outputs": [
        {
          "output_type": "execute_result",
          "data": {
            "text/plain": [
              "True"
            ]
          },
          "metadata": {},
          "execution_count": 49
        }
      ]
    },
    {
      "cell_type": "code",
      "metadata": {
        "colab": {
          "base_uri": "https://localhost:8080/"
        },
        "id": "NL-qVpj47Zy6",
        "outputId": "7d020796-6f79-41d6-ce61-17da7276a1a6"
      },
      "source": [
        "3 > 25"
      ],
      "execution_count": null,
      "outputs": [
        {
          "output_type": "execute_result",
          "data": {
            "text/plain": [
              "False"
            ]
          },
          "metadata": {},
          "execution_count": 50
        }
      ]
    },
    {
      "cell_type": "code",
      "metadata": {
        "colab": {
          "base_uri": "https://localhost:8080/"
        },
        "id": "BWdciepp7dHW",
        "outputId": "f818cd37-4ae0-4493-da23-f51afc3580b9"
      },
      "source": [
        "'python' == 'python'"
      ],
      "execution_count": null,
      "outputs": [
        {
          "output_type": "execute_result",
          "data": {
            "text/plain": [
              "True"
            ]
          },
          "metadata": {},
          "execution_count": 51
        }
      ]
    },
    {
      "cell_type": "code",
      "metadata": {
        "colab": {
          "base_uri": "https://localhost:8080/"
        },
        "id": "loOyoWD_7l2L",
        "outputId": "ef6ded08-fa26-4f19-e011-b00e98759a63"
      },
      "source": [
        "'python' > 'java'"
      ],
      "execution_count": null,
      "outputs": [
        {
          "output_type": "execute_result",
          "data": {
            "text/plain": [
              "True"
            ]
          },
          "metadata": {},
          "execution_count": 52
        }
      ]
    },
    {
      "cell_type": "code",
      "metadata": {
        "colab": {
          "base_uri": "https://localhost:8080/"
        },
        "id": "tdT207sE7qfE",
        "outputId": "e8c6ac5d-a351-46e5-ed87-13e38bb89408"
      },
      "source": [
        "'python' == 'java'"
      ],
      "execution_count": null,
      "outputs": [
        {
          "output_type": "execute_result",
          "data": {
            "text/plain": [
              "False"
            ]
          },
          "metadata": {},
          "execution_count": 53
        }
      ]
    },
    {
      "cell_type": "code",
      "metadata": {
        "colab": {
          "base_uri": "https://localhost:8080/"
        },
        "id": "nRtL5ElI72H6",
        "outputId": "79685def-9b4b-4f75-bb96-b86e0a692446"
      },
      "source": [
        "'python' == 'nohtyp'"
      ],
      "execution_count": null,
      "outputs": [
        {
          "output_type": "execute_result",
          "data": {
            "text/plain": [
              "False"
            ]
          },
          "metadata": {},
          "execution_count": 55
        }
      ]
    },
    {
      "cell_type": "code",
      "metadata": {
        "colab": {
          "base_uri": "https://localhost:8080/"
        },
        "id": "FciiGRI57-ZV",
        "outputId": "75296864-ee0f-4ee4-c1d9-fd0fb659d9da"
      },
      "source": [
        "'pão' > 'baú'"
      ],
      "execution_count": null,
      "outputs": [
        {
          "output_type": "execute_result",
          "data": {
            "text/plain": [
              "True"
            ]
          },
          "metadata": {},
          "execution_count": 57
        }
      ]
    },
    {
      "cell_type": "markdown",
      "metadata": {
        "id": "lmeywTWQ8Fcw"
      },
      "source": [
        "### Tabela ASCII"
      ]
    },
    {
      "cell_type": "markdown",
      "metadata": {
        "id": "4Koq5UwN8MG4"
      },
      "source": [
        "Código padrão americano para intercâmbio de informação\n",
        "\n",
        "Código binário que codifica um conjunto de 128 sinais: 95 sinais gráficos"
      ]
    },
    {
      "cell_type": "code",
      "metadata": {
        "id": "rDPVJZec8fyp"
      },
      "source": [
        "nome = 'pão'\n",
        "nome_1 = 'baú'"
      ],
      "execution_count": null,
      "outputs": []
    },
    {
      "cell_type": "code",
      "metadata": {
        "colab": {
          "base_uri": "https://localhost:8080/"
        },
        "id": "z8ezmWZi9BLI",
        "outputId": "062ae61f-e851-4e08-83cf-42e7fb5368e9"
      },
      "source": [
        "print(nome.encode())"
      ],
      "execution_count": null,
      "outputs": [
        {
          "output_type": "stream",
          "name": "stdout",
          "text": [
            "b'p\\xc3\\xa3o'\n"
          ]
        }
      ]
    },
    {
      "cell_type": "code",
      "metadata": {
        "colab": {
          "base_uri": "https://localhost:8080/"
        },
        "id": "U-9rlqHh9LxQ",
        "outputId": "0e05ab35-0628-4f6a-9cb7-1aa62380d9e9"
      },
      "source": [
        "print(nome_1.encode())"
      ],
      "execution_count": null,
      "outputs": [
        {
          "output_type": "stream",
          "name": "stdout",
          "text": [
            "b'ba\\xc3\\xba'\n"
          ]
        }
      ]
    },
    {
      "cell_type": "markdown",
      "metadata": {
        "id": "DR0T8uYf9kNY"
      },
      "source": [
        "###Convertendo os tipos de dados em Python"
      ]
    },
    {
      "cell_type": "code",
      "metadata": {
        "id": "MSgbTOCI9ofX"
      },
      "source": [
        "num_end = 500"
      ],
      "execution_count": null,
      "outputs": []
    },
    {
      "cell_type": "code",
      "metadata": {
        "id": "ZqREwcQ5-PU9"
      },
      "source": [
        "num_end2 = '200'"
      ],
      "execution_count": null,
      "outputs": []
    },
    {
      "cell_type": "code",
      "metadata": {
        "id": "wQITOlYk-Sud"
      },
      "source": [
        "num_end_x = str(num_end)"
      ],
      "execution_count": null,
      "outputs": []
    },
    {
      "cell_type": "code",
      "metadata": {
        "colab": {
          "base_uri": "https://localhost:8080/"
        },
        "id": "JoyI-X-y-baM",
        "outputId": "89374be9-f6a7-4982-e1f0-698f47d681f7"
      },
      "source": [
        "print(type(num_end_x))"
      ],
      "execution_count": null,
      "outputs": [
        {
          "output_type": "stream",
          "name": "stdout",
          "text": [
            "<class 'str'>\n"
          ]
        }
      ]
    },
    {
      "cell_type": "code",
      "metadata": {
        "colab": {
          "base_uri": "https://localhost:8080/"
        },
        "id": "GB4w68iR-lDm",
        "outputId": "b89a06b3-6f40-4250-bd6e-130242f9f527"
      },
      "source": [
        "print(type(num_end))"
      ],
      "execution_count": null,
      "outputs": [
        {
          "output_type": "stream",
          "name": "stdout",
          "text": [
            "<class 'int'>\n"
          ]
        }
      ]
    },
    {
      "cell_type": "markdown",
      "metadata": {
        "id": "fgWE_CIz_Rwy"
      },
      "source": [
        "# List; Tuple; Sets e Dictionary"
      ]
    },
    {
      "cell_type": "markdown",
      "metadata": {
        "id": "09v7_1QHLDq1"
      },
      "source": [
        "### Listas (Arrays)"
      ]
    },
    {
      "cell_type": "code",
      "metadata": {
        "id": "Equj-8tF_Zln"
      },
      "source": [
        "frutas = ['banana', 'laranja', 'abacate', 'melancia', 'caju', 'abacaxi']\n",
        "saldo_alunos = [500.00, 1200.00, 1000.00, 600.00, 50000.00]\n",
        "num_pacientes = [25, 36, 50, 45, 22, 33, 89]"
      ],
      "execution_count": null,
      "outputs": []
    },
    {
      "cell_type": "code",
      "metadata": {
        "colab": {
          "base_uri": "https://localhost:8080/"
        },
        "id": "IzYnNO7lLNJa",
        "outputId": "cf46e0a9-5c7c-4cf1-b692-9f5a8aec8410"
      },
      "source": [
        "print(frutas)"
      ],
      "execution_count": null,
      "outputs": [
        {
          "output_type": "stream",
          "name": "stdout",
          "text": [
            "['banana', 'laranja', 'abacate', 'melancia', 'caju', 'abacaxi']\n"
          ]
        }
      ]
    },
    {
      "cell_type": "code",
      "metadata": {
        "colab": {
          "base_uri": "https://localhost:8080/"
        },
        "id": "JsLDT1I3LPml",
        "outputId": "0eafdab7-382e-43f0-faab-8b3adff7868c"
      },
      "source": [
        "print(saldo_alunos)"
      ],
      "execution_count": null,
      "outputs": [
        {
          "output_type": "stream",
          "name": "stdout",
          "text": [
            "[500.0, 1200.0, 1000.0, 600.0, 50000.0]\n"
          ]
        }
      ]
    },
    {
      "cell_type": "code",
      "metadata": {
        "colab": {
          "base_uri": "https://localhost:8080/"
        },
        "id": "kr1dCIOCLTTC",
        "outputId": "1a6c4545-4109-44ba-ea81-26bf518cc064"
      },
      "source": [
        "print(num_pacientes)"
      ],
      "execution_count": null,
      "outputs": [
        {
          "output_type": "stream",
          "name": "stdout",
          "text": [
            "[25, 36, 50, 45, 22, 33, 89]\n"
          ]
        }
      ]
    },
    {
      "cell_type": "markdown",
      "metadata": {
        "id": "0h3lNEyILa1t"
      },
      "source": [
        "#### Permite duplicados"
      ]
    },
    {
      "cell_type": "code",
      "metadata": {
        "id": "cySBfhWSLd39"
      },
      "source": [
        "frutas_dup = ['banana', 'laranja', 'abacate', 'melancia', 'caju', 'abacaxi', 'banana', 'laranja', 'abacate']"
      ],
      "execution_count": null,
      "outputs": []
    },
    {
      "cell_type": "code",
      "metadata": {
        "colab": {
          "base_uri": "https://localhost:8080/"
        },
        "id": "UjFgXreULuz1",
        "outputId": "28fafe47-7268-4bd3-853a-d8deff22625e"
      },
      "source": [
        "print(frutas_dup)"
      ],
      "execution_count": null,
      "outputs": [
        {
          "output_type": "stream",
          "name": "stdout",
          "text": [
            "['banana', 'laranja', 'abacate', 'melancia', 'caju', 'abacaxi', 'banana', 'laranja', 'abacate']\n"
          ]
        }
      ]
    },
    {
      "cell_type": "markdown",
      "metadata": {
        "id": "ZpCJe-gWLwvz"
      },
      "source": [
        "#### Calcular tamanho da lista\n"
      ]
    },
    {
      "cell_type": "code",
      "metadata": {
        "colab": {
          "base_uri": "https://localhost:8080/"
        },
        "id": "6Zw1S6_vLwXD",
        "outputId": "ea869dc0-0180-4662-eac0-b39e22369661"
      },
      "source": [
        "len(saldo_alunos)"
      ],
      "execution_count": null,
      "outputs": [
        {
          "output_type": "execute_result",
          "data": {
            "text/plain": [
              "5"
            ]
          },
          "metadata": {},
          "execution_count": 7
        }
      ]
    },
    {
      "cell_type": "code",
      "metadata": {
        "colab": {
          "base_uri": "https://localhost:8080/"
        },
        "id": "y7czpiwRMEKy",
        "outputId": "99c53c86-ff31-40a3-949f-81f3904fdb1c"
      },
      "source": [
        "len(num_pacientes)"
      ],
      "execution_count": null,
      "outputs": [
        {
          "output_type": "execute_result",
          "data": {
            "text/plain": [
              "7"
            ]
          },
          "metadata": {},
          "execution_count": 8
        }
      ]
    },
    {
      "cell_type": "markdown",
      "metadata": {
        "id": "zqJYcL-jMKoD"
      },
      "source": [
        "####Uma lista pode conter diferentes tipos de dados"
      ]
    },
    {
      "cell_type": "code",
      "metadata": {
        "id": "wIkLa57LMMwQ"
      },
      "source": [
        "variados = [10, 2.5, 'Python']"
      ],
      "execution_count": null,
      "outputs": []
    },
    {
      "cell_type": "code",
      "metadata": {
        "colab": {
          "base_uri": "https://localhost:8080/"
        },
        "id": "AYC1jM4gMQzm",
        "outputId": "e36952c6-e703-4f54-d8b1-4ea9f8396065"
      },
      "source": [
        "print(variados)"
      ],
      "execution_count": null,
      "outputs": [
        {
          "output_type": "stream",
          "name": "stdout",
          "text": [
            "[10, 2.5, 'Python']\n"
          ]
        }
      ]
    },
    {
      "cell_type": "markdown",
      "metadata": {
        "id": "oXy6vKO8MVpE"
      },
      "source": [
        "#### Acessar um item da lista"
      ]
    },
    {
      "cell_type": "code",
      "metadata": {
        "id": "fJaqa_mCMXf_"
      },
      "source": [
        "frutas = ['banana', 'laranja', 'abacate', 'melancia', 'caju', 'abacaxi']\n",
        "saldo_alunos = [500.00, 1200.00, 1000.00, 600.00, 50000.00]\n",
        "num_pacientes = [25, 36, 50, 45, 22, 33, 89]"
      ],
      "execution_count": null,
      "outputs": []
    },
    {
      "cell_type": "code",
      "metadata": {
        "colab": {
          "base_uri": "https://localhost:8080/"
        },
        "id": "h7KuzjQWMbyt",
        "outputId": "58a84626-45c1-4070-e8e9-360986ad001d"
      },
      "source": [
        "print(frutas[2])"
      ],
      "execution_count": null,
      "outputs": [
        {
          "output_type": "stream",
          "name": "stdout",
          "text": [
            "abacate\n"
          ]
        }
      ]
    },
    {
      "cell_type": "code",
      "metadata": {
        "colab": {
          "base_uri": "https://localhost:8080/"
        },
        "id": "qdAdFX3qMgb7",
        "outputId": "844558fb-0b77-4e0a-87b3-a27a0eb168db"
      },
      "source": [
        "print(frutas[3])"
      ],
      "execution_count": null,
      "outputs": [
        {
          "output_type": "stream",
          "name": "stdout",
          "text": [
            "melancia\n"
          ]
        }
      ]
    },
    {
      "cell_type": "markdown",
      "metadata": {
        "id": "N9TW_hdfMlt1"
      },
      "source": [
        "Adicionando itens na lista"
      ]
    },
    {
      "cell_type": "code",
      "metadata": {
        "id": "OH6kgRtkMnWl"
      },
      "source": [
        "frutas.append('morango')"
      ],
      "execution_count": null,
      "outputs": []
    },
    {
      "cell_type": "code",
      "metadata": {
        "colab": {
          "base_uri": "https://localhost:8080/"
        },
        "id": "MOYJETDvMsgv",
        "outputId": "e479f74c-fef3-4e2e-a8bd-a091c5d7388b"
      },
      "source": [
        "print(frutas)"
      ],
      "execution_count": null,
      "outputs": [
        {
          "output_type": "stream",
          "name": "stdout",
          "text": [
            "['banana', 'laranja', 'abacate', 'melancia', 'caju', 'abacaxi', 'morango']\n"
          ]
        }
      ]
    },
    {
      "cell_type": "markdown",
      "metadata": {
        "id": "jZhVHdDRMxrh"
      },
      "source": [
        "#### Unir Listas"
      ]
    },
    {
      "cell_type": "code",
      "metadata": {
        "id": "N0EI0xtkMz1d"
      },
      "source": [
        "saldo_alunos.extend(num_pacientes)"
      ],
      "execution_count": null,
      "outputs": []
    },
    {
      "cell_type": "code",
      "metadata": {
        "colab": {
          "base_uri": "https://localhost:8080/"
        },
        "id": "jNhxTH9bM319",
        "outputId": "36872d76-203f-4196-c8d1-65a2c02cf681"
      },
      "source": [
        "print(saldo_alunos)"
      ],
      "execution_count": null,
      "outputs": [
        {
          "output_type": "stream",
          "name": "stdout",
          "text": [
            "[500.0, 1200.0, 1000.0, 600.0, 50000.0, 25, 36, 50, 45, 22, 33, 89]\n"
          ]
        }
      ]
    },
    {
      "cell_type": "markdown",
      "metadata": {
        "id": "lLuojzEKNHKR"
      },
      "source": [
        "### Tuples"
      ]
    },
    {
      "cell_type": "code",
      "metadata": {
        "id": "p9ZJVXWINJu5"
      },
      "source": [
        "frutas = ('banana', 'laranja', 'abacate', 'melancia', 'caju', 'abacaxi')\n",
        "saldo_alunos = (500.00, 1200.00, 1000.00, 600.00, 50000.00)\n",
        "num_pacientes = (25, 36, 50, 45, 22, 33, 89)"
      ],
      "execution_count": null,
      "outputs": []
    },
    {
      "cell_type": "markdown",
      "metadata": {
        "id": "X5Qoxf2NNQVF"
      },
      "source": [
        "####Os valores são indexados"
      ]
    },
    {
      "cell_type": "code",
      "metadata": {
        "colab": {
          "base_uri": "https://localhost:8080/"
        },
        "id": "enrLGzLrNO92",
        "outputId": "dc3da253-d02b-48a4-cf4a-5070e58066bd"
      },
      "source": [
        "print(frutas[1])"
      ],
      "execution_count": null,
      "outputs": [
        {
          "output_type": "stream",
          "name": "stdout",
          "text": [
            "laranja\n"
          ]
        }
      ]
    },
    {
      "cell_type": "code",
      "metadata": {
        "colab": {
          "base_uri": "https://localhost:8080/"
        },
        "id": "E5u5Mo3dNWyW",
        "outputId": "57c1d44f-fe4d-44c3-cbfa-b3d0ae0d12e8"
      },
      "source": [
        "print(frutas[1:4])"
      ],
      "execution_count": null,
      "outputs": [
        {
          "output_type": "stream",
          "name": "stdout",
          "text": [
            "('laranja', 'abacate', 'melancia')\n"
          ]
        }
      ]
    },
    {
      "cell_type": "code",
      "metadata": {
        "colab": {
          "base_uri": "https://localhost:8080/"
        },
        "id": "LsOsystvNpZ9",
        "outputId": "5a4378a8-b5d3-4317-fb6d-964817a76d31"
      },
      "source": [
        "print(frutas[0:50])"
      ],
      "execution_count": null,
      "outputs": [
        {
          "output_type": "stream",
          "name": "stdout",
          "text": [
            "('banana', 'laranja', 'abacate', 'melancia', 'caju', 'abacaxi')\n"
          ]
        }
      ]
    },
    {
      "cell_type": "markdown",
      "metadata": {
        "id": "JsQWDHpPNtrZ"
      },
      "source": [
        "####Permite Duplicados"
      ]
    },
    {
      "cell_type": "code",
      "metadata": {
        "id": "GWgidfvWNvDq"
      },
      "source": [
        "saldo_alunos_dup = (500.00, 1200.00, 1000.00, 600.00, 50000.00, 500.00, 1200.00, 1000.00, 600.00, 50000.00)"
      ],
      "execution_count": null,
      "outputs": []
    },
    {
      "cell_type": "code",
      "metadata": {
        "colab": {
          "base_uri": "https://localhost:8080/"
        },
        "id": "s-WPGVrYNzRt",
        "outputId": "de36392c-0de9-4334-eec0-81e25d8edca9"
      },
      "source": [
        "print(saldo_alunos_dup)"
      ],
      "execution_count": null,
      "outputs": [
        {
          "output_type": "stream",
          "name": "stdout",
          "text": [
            "(500.0, 1200.0, 1000.0, 600.0, 50000.0, 500.0, 1200.0, 1000.0, 600.0, 50000.0)\n"
          ]
        }
      ]
    },
    {
      "cell_type": "markdown",
      "metadata": {
        "id": "83_eUJE9N6N1"
      },
      "source": [
        "####Juntar Tuples"
      ]
    },
    {
      "cell_type": "code",
      "metadata": {
        "id": "5g-bRLuiN37y"
      },
      "source": [
        "tupla_junto = frutas + num_pacientes"
      ],
      "execution_count": null,
      "outputs": []
    },
    {
      "cell_type": "code",
      "metadata": {
        "colab": {
          "base_uri": "https://localhost:8080/"
        },
        "id": "t8HWOBXvOAEK",
        "outputId": "df5e7924-ced4-4ab0-e4bf-5194ba73056c"
      },
      "source": [
        "print(tupla_junto)"
      ],
      "execution_count": null,
      "outputs": [
        {
          "output_type": "stream",
          "name": "stdout",
          "text": [
            "('banana', 'laranja', 'abacate', 'melancia', 'caju', 'abacaxi', 25, 36, 50, 45, 22, 33, 89)\n"
          ]
        }
      ]
    },
    {
      "cell_type": "code",
      "metadata": {
        "colab": {
          "base_uri": "https://localhost:8080/"
        },
        "id": "mS7OhaeGOF59",
        "outputId": "1649d8be-76a6-410d-f23d-9ac013b16de9"
      },
      "source": [
        "print(type(tupla_junto))"
      ],
      "execution_count": null,
      "outputs": [
        {
          "output_type": "stream",
          "name": "stdout",
          "text": [
            "<class 'tuple'>\n"
          ]
        }
      ]
    },
    {
      "cell_type": "markdown",
      "metadata": {
        "id": "QqRzYH0XOHlZ"
      },
      "source": [
        "####Contar Valores Repetidos em uma Tuple"
      ]
    },
    {
      "cell_type": "code",
      "metadata": {
        "id": "ULrSYE_mOKez"
      },
      "source": [
        "\n",
        "num_pacientes_x = (25, 36, 50, 45, 22, 33, 89, 25, 36, 50, 45, 22, 33, 89, 25, 36, 50, 45,\n",
        "                 25, 36, 50, 45, 22, 33, 89, 25, 36, 50, 45, 22, 33, 89,25, 36, 50, 45, 22, 33, 89,\n",
        "                 25, 36, 50, 45, 22, 33, 89, 25, 36, 50, 45, 22, 33, 89, 25, 36, 50, 45,\n",
        "                 25, 36, 50, 45, 22, 33, 89, 25, 36, 50, 45, 22, 33, 89,25, 36, 50, 45, 22, 33, 89,\n",
        "                 25, 36, 50, 45, 22, 33, 89, 25, 36, 50, 45, 22, 33, 89, 25, 36, 50, 45,\n",
        "                 25, 36, 50, 45, 22, 33, 89, 25, 36, 50, 45, 22, 33, 89,25, 36, 50, 45, 22, 33, 89,\n",
        "                 25, 36, 50, 45, 22, 33, 89, 25, 36, 50, 45, 22, 33, 89, 25, 36, 50, 45,\n",
        "                 25, 36, 50, 45, 22, 33, 89, 25, 36, 50, 45, 22, 33, 89,25, 36, 50, 45, 22, 33, 89)"
      ],
      "execution_count": null,
      "outputs": []
    },
    {
      "cell_type": "code",
      "metadata": {
        "colab": {
          "base_uri": "https://localhost:8080/"
        },
        "id": "0CWJsl1SOSbY",
        "outputId": "0529613c-b1c0-45c2-bdd6-e75a24094007"
      },
      "source": [
        "num_pacientes_x.count(45)"
      ],
      "execution_count": null,
      "outputs": [
        {
          "output_type": "execute_result",
          "data": {
            "text/plain": [
              "24"
            ]
          },
          "metadata": {},
          "execution_count": 28
        }
      ]
    },
    {
      "cell_type": "markdown",
      "metadata": {
        "id": "Wmo-zGx6OX0B"
      },
      "source": [
        "###Set"
      ]
    },
    {
      "cell_type": "code",
      "metadata": {
        "id": "43OexwD8OadK"
      },
      "source": [
        "cidade = {'Belo Horizonte', 'Manaus', 'Fortaleza', 'Natal'}"
      ],
      "execution_count": null,
      "outputs": []
    },
    {
      "cell_type": "code",
      "metadata": {
        "colab": {
          "base_uri": "https://localhost:8080/"
        },
        "id": "EhnbdJ7mOhtP",
        "outputId": "709948f5-5dbd-4a44-b09e-6d0f3cfafe28"
      },
      "source": [
        "print(type(cidade))"
      ],
      "execution_count": null,
      "outputs": [
        {
          "output_type": "stream",
          "name": "stdout",
          "text": [
            "<class 'set'>\n"
          ]
        }
      ]
    },
    {
      "cell_type": "code",
      "metadata": {
        "colab": {
          "base_uri": "https://localhost:8080/"
        },
        "id": "FoSC4AdlOkEx",
        "outputId": "35044dbe-83c6-466a-c37f-d4b5c027e18f"
      },
      "source": [
        "print(cidade)"
      ],
      "execution_count": null,
      "outputs": [
        {
          "output_type": "stream",
          "name": "stdout",
          "text": [
            "{'Fortaleza', 'Manaus', 'Natal', 'Belo Horizonte'}\n"
          ]
        }
      ]
    },
    {
      "cell_type": "markdown",
      "metadata": {
        "id": "Hil3NZxeOnUM"
      },
      "source": [
        "####Não permitem Valores Duplicados"
      ]
    },
    {
      "cell_type": "code",
      "metadata": {
        "id": "oeh3k19OOrXN"
      },
      "source": [
        "cidade_repet = {'Belo Horizonte', 'Manaus', 'Fortaleza', 'Natal','Belo Horizonte', 'Manaus', 'Fortaleza', 'Natal',\n",
        "          'Belo Horizonte', 'Manaus', 'Fortaleza', 'Natal','Belo Horizonte', 'Manaus', 'Fortaleza', 'Natal',\n",
        "          'Belo Horizonte', 'Manaus', 'Fortaleza', 'Natal','Belo Horizonte', 'Manaus', 'Fortaleza', 'Natal',\n",
        "          'Belo Horizonte', 'Manaus', 'Fortaleza', 'Natal','Belo Horizonte', 'Manaus', 'Fortaleza', 'Natal'}"
      ],
      "execution_count": null,
      "outputs": []
    },
    {
      "cell_type": "code",
      "metadata": {
        "colab": {
          "base_uri": "https://localhost:8080/"
        },
        "id": "wD8I7R7xOvUO",
        "outputId": "e58a73db-844a-4546-8507-5f86137e8914"
      },
      "source": [
        "print(cidade_repet)"
      ],
      "execution_count": null,
      "outputs": [
        {
          "output_type": "stream",
          "name": "stdout",
          "text": [
            "{'Fortaleza', 'Manaus', 'Natal', 'Belo Horizonte'}\n"
          ]
        }
      ]
    },
    {
      "cell_type": "markdown",
      "metadata": {
        "id": "vVjF3d85O2ke"
      },
      "source": [
        "####Checando Valores em um Set"
      ]
    },
    {
      "cell_type": "code",
      "metadata": {
        "id": "Dt2OJFXaO4vJ"
      },
      "source": [
        "cidade = {'Belo Horizonte', 'Manaus', 'Fortaleza', 'Natal'}"
      ],
      "execution_count": null,
      "outputs": []
    },
    {
      "cell_type": "code",
      "metadata": {
        "colab": {
          "base_uri": "https://localhost:8080/"
        },
        "id": "0qH2OrPgO809",
        "outputId": "68d8bb03-8b9b-4925-93aa-003f533b6ba6"
      },
      "source": [
        "print('Manaus' in cidade)"
      ],
      "execution_count": null,
      "outputs": [
        {
          "output_type": "stream",
          "name": "stdout",
          "text": [
            "True\n"
          ]
        }
      ]
    },
    {
      "cell_type": "code",
      "metadata": {
        "colab": {
          "base_uri": "https://localhost:8080/"
        },
        "id": "XgyV7Z2PO-P-",
        "outputId": "8e1050e6-ae8a-4cf5-89dd-ebf914c8bbc6"
      },
      "source": [
        "print('Recife' in cidade)"
      ],
      "execution_count": null,
      "outputs": [
        {
          "output_type": "stream",
          "name": "stdout",
          "text": [
            "False\n"
          ]
        }
      ]
    },
    {
      "cell_type": "markdown",
      "metadata": {
        "id": "ny6XQch7PEOQ"
      },
      "source": [
        "####Adicionando item ao set"
      ]
    },
    {
      "cell_type": "code",
      "metadata": {
        "id": "oVvASHLLPGCL"
      },
      "source": [
        "cidade.add('Porto Alegre')"
      ],
      "execution_count": null,
      "outputs": []
    },
    {
      "cell_type": "code",
      "metadata": {
        "colab": {
          "base_uri": "https://localhost:8080/"
        },
        "id": "wYM94m4DPOm0",
        "outputId": "dda9f5d5-9966-4bfa-b7d7-3804a253a81e"
      },
      "source": [
        "print(cidade)"
      ],
      "execution_count": null,
      "outputs": [
        {
          "output_type": "stream",
          "name": "stdout",
          "text": [
            "{'Fortaleza', 'Manaus', 'Natal', 'Belo Horizonte', 'Porto Alegre'}\n"
          ]
        }
      ]
    },
    {
      "cell_type": "markdown",
      "metadata": {
        "id": "gI_b5WyCPR2n"
      },
      "source": [
        "####Unindo Sets"
      ]
    },
    {
      "cell_type": "code",
      "metadata": {
        "id": "KvGF_rRaPTgF"
      },
      "source": [
        "cidades_2 = {'Recife', 'Salvador', 'Campo Grande'}"
      ],
      "execution_count": null,
      "outputs": []
    },
    {
      "cell_type": "code",
      "metadata": {
        "id": "laUtaTFyPUXi"
      },
      "source": [
        "cidade.update(cidades_2)"
      ],
      "execution_count": null,
      "outputs": []
    },
    {
      "cell_type": "code",
      "metadata": {
        "colab": {
          "base_uri": "https://localhost:8080/"
        },
        "id": "aGbbxG-YPUGn",
        "outputId": "c0e9c9eb-df33-46f1-a1b7-3f1b18e82095"
      },
      "source": [
        "print(cidade)"
      ],
      "execution_count": null,
      "outputs": [
        {
          "output_type": "stream",
          "name": "stdout",
          "text": [
            "{'Fortaleza', 'Manaus', 'Recife', 'Campo Grande', 'Salvador', 'Natal', 'Belo Horizonte', 'Porto Alegre'}\n"
          ]
        }
      ]
    },
    {
      "cell_type": "markdown",
      "metadata": {
        "id": "f4YVkscIPevl"
      },
      "source": [
        "###Dictionary"
      ]
    },
    {
      "cell_type": "code",
      "metadata": {
        "id": "Z1n00aX5PhdG"
      },
      "source": [
        "cod_uf = {\n",
        "21 : 'Maranhão',\n",
        "22 : 'Piauí',\n",
        "23 : 'Ceará',\n",
        "24 : 'Rio Grande do Norte',\n",
        "25 : 'Paraíba',\n",
        "26 : 'Pernambuco',\n",
        "27 : 'Alagoas',\n",
        "28 : 'Sergipe',\n",
        "29 : 'Bahia'}"
      ],
      "execution_count": null,
      "outputs": []
    },
    {
      "cell_type": "code",
      "metadata": {
        "colab": {
          "base_uri": "https://localhost:8080/"
        },
        "id": "ftuK-2ZOPnD9",
        "outputId": "d0cb97f1-7649-4046-b38e-706bfc874473"
      },
      "source": [
        "print(type(cod_uf))"
      ],
      "execution_count": null,
      "outputs": [
        {
          "output_type": "stream",
          "name": "stdout",
          "text": [
            "<class 'dict'>\n"
          ]
        }
      ]
    },
    {
      "cell_type": "code",
      "metadata": {
        "colab": {
          "base_uri": "https://localhost:8080/"
        },
        "id": "ArH94KgePoo8",
        "outputId": "9e7bd328-45f3-4011-d44f-3fbb9e79a7ca"
      },
      "source": [
        "print(cod_uf)"
      ],
      "execution_count": null,
      "outputs": [
        {
          "output_type": "stream",
          "name": "stdout",
          "text": [
            "{21: 'Maranhão', 22: 'Piauí', 23: 'Ceará', 24: 'Rio Grande do Norte', 25: 'Paraíba', 26: 'Pernambuco', 27: 'Alagoas', 28: 'Sergipe', 29: 'Bahia'}\n"
          ]
        }
      ]
    },
    {
      "cell_type": "markdown",
      "metadata": {
        "id": "sDb4MV_GPw4O"
      },
      "source": [
        "#### Valores ordenados\n",
        "A partir do Python 3.7"
      ]
    },
    {
      "cell_type": "code",
      "metadata": {
        "colab": {
          "base_uri": "https://localhost:8080/"
        },
        "id": "m11iLHpMP6cX",
        "outputId": "095c88a2-330a-48fe-e039-5a89a27c17d3"
      },
      "source": [
        "cod_uf.values()"
      ],
      "execution_count": null,
      "outputs": [
        {
          "output_type": "execute_result",
          "data": {
            "text/plain": [
              "dict_values(['Maranhão', 'Piauí', 'Ceará', 'Rio Grande do Norte', 'Paraíba', 'Pernambuco', 'Alagoas', 'Sergipe', 'Bahia'])"
            ]
          },
          "metadata": {},
          "execution_count": 45
        }
      ]
    },
    {
      "cell_type": "markdown",
      "metadata": {
        "id": "2g32gjjCQAHN"
      },
      "source": [
        "####Duplicados não são permitidos"
      ]
    },
    {
      "cell_type": "code",
      "metadata": {
        "id": "jUMezfvbP-gV"
      },
      "source": [
        "cod_uf_dup = {\n",
        "21 : 'Maranhão',\n",
        "22 : 'Piauí',\n",
        "23 : 'Ceará',\n",
        "24 : 'Rio Grande do Norte',\n",
        "25 : 'Paraíba',\n",
        "26 : 'Pernambuco',\n",
        "27 : 'Alagoas',\n",
        "28 : 'Sergipe',\n",
        "29 : 'Bahia',\n",
        "21 : 'Maranhão',\n",
        "22 : 'Piauí',\n",
        "23 : 'Ceará',\n",
        "24 : 'Rio Grande do Norte',\n",
        "25 : 'Paraíba',\n",
        "26 : 'Pernambuco',\n",
        "27 : 'Alagoas',\n",
        "28 : 'Sergipe',\n",
        "29 : 'Bahia',\n",
        "21 : 'Maranhão',\n",
        "22 : 'Piauí',\n",
        "23 : 'Ceará',\n",
        "24 : 'Rio Grande do Norte',\n",
        "25 : 'Paraíba',\n",
        "26 : 'Pernambuco',\n",
        "27 : 'Alagoas',\n",
        "28 : 'Sergipe',\n",
        "29 : 'Bahia'}"
      ],
      "execution_count": null,
      "outputs": []
    },
    {
      "cell_type": "code",
      "metadata": {
        "colab": {
          "base_uri": "https://localhost:8080/"
        },
        "id": "NFh0KYkKQKgg",
        "outputId": "7d64972b-fcfa-4d65-a887-a57c84ceca69"
      },
      "source": [
        "print(cod_uf_dup)"
      ],
      "execution_count": null,
      "outputs": [
        {
          "output_type": "stream",
          "name": "stdout",
          "text": [
            "{21: 'Maranhão', 22: 'Piauí', 23: 'Ceará', 24: 'Rio Grande do Norte', 25: 'Paraíba', 26: 'Pernambuco', 27: 'Alagoas', 28: 'Sergipe', 29: 'Bahia'}\n"
          ]
        }
      ]
    },
    {
      "cell_type": "markdown",
      "metadata": {
        "id": "1awEeX4KQOp6"
      },
      "source": [
        "####Acessando os valores"
      ]
    },
    {
      "cell_type": "code",
      "metadata": {
        "colab": {
          "base_uri": "https://localhost:8080/",
          "height": 35
        },
        "id": "32xtMHcbQRuL",
        "outputId": "4a7c03c0-e103-4899-d3ca-522883fbbf1d"
      },
      "source": [
        "cod_uf.get(22)"
      ],
      "execution_count": null,
      "outputs": [
        {
          "output_type": "execute_result",
          "data": {
            "application/vnd.google.colaboratory.intrinsic+json": {
              "type": "string"
            },
            "text/plain": [
              "'Piauí'"
            ]
          },
          "metadata": {},
          "execution_count": 48
        }
      ]
    },
    {
      "cell_type": "code",
      "metadata": {
        "colab": {
          "base_uri": "https://localhost:8080/"
        },
        "id": "VzcifTcjQUfP",
        "outputId": "83408823-677c-4ec9-e844-52d2fca221e2"
      },
      "source": [
        "cod_uf.keys()"
      ],
      "execution_count": null,
      "outputs": [
        {
          "output_type": "execute_result",
          "data": {
            "text/plain": [
              "dict_keys([21, 22, 23, 24, 25, 26, 27, 28, 29])"
            ]
          },
          "metadata": {},
          "execution_count": 49
        }
      ]
    },
    {
      "cell_type": "markdown",
      "metadata": {
        "id": "_21EpceuQY9x"
      },
      "source": [
        "####Adicionando novos valores"
      ]
    },
    {
      "cell_type": "code",
      "metadata": {
        "id": "CjFGfED0Qcca"
      },
      "source": [
        "cod_uf[30] = 'Estado Vira-lata Caramelo'"
      ],
      "execution_count": null,
      "outputs": []
    },
    {
      "cell_type": "code",
      "metadata": {
        "colab": {
          "base_uri": "https://localhost:8080/"
        },
        "id": "4E8D0xG6QfXQ",
        "outputId": "02100098-fb77-4f5f-b830-39902cb8a120"
      },
      "source": [
        "print(cod_uf)"
      ],
      "execution_count": null,
      "outputs": [
        {
          "output_type": "stream",
          "name": "stdout",
          "text": [
            "{21: 'Maranhão', 22: 'Piauí', 23: 'Ceará', 24: 'Rio Grande do Norte', 25: 'Paraíba', 26: 'Pernambuco', 27: 'Alagoas', 28: 'Sergipe', 29: 'Bahia', 30: 'Estado Vira-lata Caramelo'}\n"
          ]
        }
      ]
    },
    {
      "cell_type": "markdown",
      "metadata": {
        "id": "hilGNhqlQuCu"
      },
      "source": [
        "##Aula 6 - Condições, Loops e Funções Parte I"
      ]
    },
    {
      "cell_type": "markdown",
      "metadata": {
        "id": "6LH-tEJSQ3T4"
      },
      "source": [
        "###If"
      ]
    },
    {
      "cell_type": "code",
      "metadata": {
        "id": "pmyKNP60Qxlf"
      },
      "source": [
        "# Criando variáveis de exemplo\n",
        "\n",
        "a = 50\n",
        "b = 100\n",
        "c = 50"
      ],
      "execution_count": null,
      "outputs": []
    },
    {
      "cell_type": "code",
      "metadata": {
        "colab": {
          "base_uri": "https://localhost:8080/"
        },
        "id": "abo0HyPjRFYb",
        "outputId": "ac0b2d6e-fec4-4646-eb86-81ec5336effc"
      },
      "source": [
        "print(c)"
      ],
      "execution_count": null,
      "outputs": [
        {
          "output_type": "stream",
          "name": "stdout",
          "text": [
            "50\n"
          ]
        }
      ]
    },
    {
      "cell_type": "markdown",
      "metadata": {
        "id": "tmlwfqTmRIvf"
      },
      "source": [
        "####Igual"
      ]
    },
    {
      "cell_type": "code",
      "metadata": {
        "colab": {
          "base_uri": "https://localhost:8080/"
        },
        "id": "HdXhAkgkRKRZ",
        "outputId": "83f17808-346b-430f-cc03-45593ecb2583"
      },
      "source": [
        "if a == c:\n",
        "  print('A é igual a C')"
      ],
      "execution_count": null,
      "outputs": [
        {
          "output_type": "stream",
          "name": "stdout",
          "text": [
            "A é igual a C\n"
          ]
        }
      ]
    },
    {
      "cell_type": "markdown",
      "metadata": {
        "id": "mdNzNqiZRPUn"
      },
      "source": [
        "####Diferente"
      ]
    },
    {
      "cell_type": "code",
      "metadata": {
        "colab": {
          "base_uri": "https://localhost:8080/"
        },
        "id": "5LWAgkmCRNyf",
        "outputId": "2c45a187-0d45-4d61-dbf1-e437bf3b0d06"
      },
      "source": [
        "if a != b:\n",
        "  print('A é diferente de B')"
      ],
      "execution_count": null,
      "outputs": [
        {
          "output_type": "stream",
          "name": "stdout",
          "text": [
            "A é diferente de B\n"
          ]
        }
      ]
    },
    {
      "cell_type": "markdown",
      "metadata": {
        "id": "Q12o6vLsReUk"
      },
      "source": [
        "####Menor que"
      ]
    },
    {
      "cell_type": "code",
      "metadata": {
        "colab": {
          "base_uri": "https://localhost:8080/"
        },
        "id": "yLP_UshyRgO0",
        "outputId": "a4a98dc3-ba2c-4572-ea16-4a25a5791c17"
      },
      "source": [
        "if a < b:\n",
        "  print('A é menor do que B')"
      ],
      "execution_count": null,
      "outputs": [
        {
          "output_type": "stream",
          "name": "stdout",
          "text": [
            "A é menor do que B\n"
          ]
        }
      ]
    },
    {
      "cell_type": "markdown",
      "metadata": {
        "id": "faJieSzdRjd9"
      },
      "source": [
        "####Menor ou Igual que"
      ]
    },
    {
      "cell_type": "code",
      "metadata": {
        "colab": {
          "base_uri": "https://localhost:8080/"
        },
        "id": "ToGFOEWfRrxH",
        "outputId": "306c291a-70e7-4390-c375-79f7685db560"
      },
      "source": [
        "if a <= b:\n",
        "  print('A é menor ou igual do que B')"
      ],
      "execution_count": null,
      "outputs": [
        {
          "output_type": "stream",
          "name": "stdout",
          "text": [
            "A é menor ou igual do que B\n"
          ]
        }
      ]
    },
    {
      "cell_type": "markdown",
      "metadata": {
        "id": "VMLV6aGyRvLJ"
      },
      "source": [
        "####Maior que"
      ]
    },
    {
      "cell_type": "code",
      "metadata": {
        "colab": {
          "base_uri": "https://localhost:8080/"
        },
        "id": "2kcs0v0ASDs7",
        "outputId": "fd7626b4-4f53-4752-89ef-211c88b3c3ef"
      },
      "source": [
        "if b > c:\n",
        "  print('B é maior do que C')"
      ],
      "execution_count": null,
      "outputs": [
        {
          "output_type": "stream",
          "name": "stdout",
          "text": [
            "B é maior do que C\n"
          ]
        }
      ]
    },
    {
      "cell_type": "code",
      "metadata": {
        "colab": {
          "base_uri": "https://localhost:8080/"
        },
        "id": "YUjSQ3_bSN2k",
        "outputId": "f9788aaf-ab57-45ef-d58f-9b3091dea724"
      },
      "source": [
        "if b > c:\n",
        "  print('B é maior do que C')"
      ],
      "execution_count": null,
      "outputs": [
        {
          "output_type": "stream",
          "name": "stdout",
          "text": [
            "B é maior do que C\n"
          ]
        }
      ]
    },
    {
      "cell_type": "markdown",
      "metadata": {
        "id": "n0M89HdZSP63"
      },
      "source": [
        "###Elif"
      ]
    },
    {
      "cell_type": "code",
      "metadata": {
        "colab": {
          "base_uri": "https://localhost:8080/"
        },
        "id": "U9Rpjx-6SRUh",
        "outputId": "6f69c8d6-be07-4cf8-e522-4a20f9f30725"
      },
      "source": [
        "idade = int(input('Digite a sua idade: '))"
      ],
      "execution_count": null,
      "outputs": [
        {
          "name": "stdout",
          "output_type": "stream",
          "text": [
            "Digite a sua idade: 35\n"
          ]
        }
      ]
    },
    {
      "cell_type": "code",
      "metadata": {
        "colab": {
          "base_uri": "https://localhost:8080/"
        },
        "id": "EordNKL-ScLc",
        "outputId": "4fa9eaa8-25ee-4c88-c70e-4af81bff850a"
      },
      "source": [
        "if idade >= 18:\n",
        "  print('Você já pode dirigir')\n",
        "elif idade < 18:\n",
        "  print('Você ainda não pode dirigir')"
      ],
      "execution_count": null,
      "outputs": [
        {
          "output_type": "stream",
          "name": "stdout",
          "text": [
            "Você já pode dirigir\n"
          ]
        }
      ]
    },
    {
      "cell_type": "code",
      "metadata": {
        "colab": {
          "base_uri": "https://localhost:8080/"
        },
        "id": "5_lGvOgLSgIG",
        "outputId": "3f7892c4-5522-41d3-f14b-bedb3bb9be91"
      },
      "source": [
        "exercicio = int(input('Quantos minutos você se exercita por dia: '))"
      ],
      "execution_count": null,
      "outputs": [
        {
          "name": "stdout",
          "output_type": "stream",
          "text": [
            "Quantos minutos você se exercita por dia: 60\n"
          ]
        }
      ]
    },
    {
      "cell_type": "code",
      "metadata": {
        "colab": {
          "base_uri": "https://localhost:8080/"
        },
        "id": "kKGQPMdLSnRx",
        "outputId": "60e53901-3f2b-42f9-d277-3d976d16953a"
      },
      "source": [
        "if exercicio < 30:\n",
        "  print('Você deveria se exercitar mais')\n",
        "elif exercicio >= 30 and exercicio <= 60:\n",
        "  print('Você está no caminho certo')\n",
        "elif exercicio > 60 and exercicio <= 120:\n",
        "  print('Você é um(a) atleta')\n",
        "else:\n",
        "  print('Uau, você se exercita muito')"
      ],
      "execution_count": null,
      "outputs": [
        {
          "output_type": "stream",
          "name": "stdout",
          "text": [
            "Você está no caminho certo\n"
          ]
        }
      ]
    },
    {
      "cell_type": "markdown",
      "metadata": {
        "id": "29L-iy8VUQ1m"
      },
      "source": [
        "### Loops"
      ]
    },
    {
      "cell_type": "code",
      "metadata": {
        "colab": {
          "base_uri": "https://localhost:8080/"
        },
        "id": "NI72Our-USjk",
        "outputId": "9c0ad5e7-8479-4b55-f39c-00ee4cd51abf"
      },
      "source": [
        "trabalho = input('Você deve trabalhar hoje? ')\n",
        "dia = input('O dia está bonito? ')\n",
        "preguica = input('Você está com preguica? ')"
      ],
      "execution_count": null,
      "outputs": [
        {
          "name": "stdout",
          "output_type": "stream",
          "text": [
            "Você deve trabalhar hoje? sim\n",
            "O dia está bonito? sim\n",
            "Você está com preguica? sim\n"
          ]
        }
      ]
    },
    {
      "cell_type": "code",
      "metadata": {
        "colab": {
          "base_uri": "https://localhost:8080/"
        },
        "id": "QCmd4rX6UfYU",
        "outputId": "dddf8f24-891b-4bff-fa54-ce9c003f50a1"
      },
      "source": [
        "# Loop da vida\n",
        "\n",
        "if trabalho == 'sim':\n",
        "  print('É uma pena')\n",
        "elif trabalho == 'não':\n",
        "  print('Aproveite o dia')\n",
        "\n",
        "if dia == 'sim' and trabalho == 'não':\n",
        "  print('Aproveite para caminhar')\n",
        "elif dia == 'não' and trabalho == 'não':\n",
        "  print('Aproveite e assista um filme')\n",
        "\n",
        "if preguica == 'sim' and trabalho == 'não':\n",
        "  print('Aproveita e dorme mais')\n",
        "elif preguica == 'não' and trabalho == 'não':\n",
        "  print('Que tal estudar Python?')"
      ],
      "execution_count": null,
      "outputs": [
        {
          "output_type": "stream",
          "name": "stdout",
          "text": [
            "É uma pena\n"
          ]
        }
      ]
    },
    {
      "cell_type": "markdown",
      "metadata": {
        "id": "sCJ21wqpWaep"
      },
      "source": [
        "###For"
      ]
    },
    {
      "cell_type": "code",
      "metadata": {
        "colab": {
          "base_uri": "https://localhost:8080/",
          "height": 180
        },
        "id": "EwS96iLWWbuh",
        "outputId": "287ffd25-b309-496c-deb7-dc0e5c056a23"
      },
      "source": [
        "for x in variavel:\n",
        "  print(x)"
      ],
      "execution_count": null,
      "outputs": [
        {
          "output_type": "error",
          "ename": "NameError",
          "evalue": "ignored",
          "traceback": [
            "\u001b[0;31m---------------------------------------------------------------------------\u001b[0m",
            "\u001b[0;31mNameError\u001b[0m                                 Traceback (most recent call last)",
            "\u001b[0;32m<ipython-input-66-0736d1873049>\u001b[0m in \u001b[0;36m<module>\u001b[0;34m()\u001b[0m\n\u001b[0;32m----> 1\u001b[0;31m \u001b[0;32mfor\u001b[0m \u001b[0mx\u001b[0m \u001b[0;32min\u001b[0m \u001b[0mvariavel\u001b[0m\u001b[0;34m:\u001b[0m\u001b[0;34m\u001b[0m\u001b[0;34m\u001b[0m\u001b[0m\n\u001b[0m\u001b[1;32m      2\u001b[0m   \u001b[0mprint\u001b[0m\u001b[0;34m(\u001b[0m\u001b[0mx\u001b[0m\u001b[0;34m)\u001b[0m\u001b[0;34m\u001b[0m\u001b[0;34m\u001b[0m\u001b[0m\n",
            "\u001b[0;31mNameError\u001b[0m: name 'variavel' is not defined"
          ]
        }
      ]
    },
    {
      "cell_type": "markdown",
      "metadata": {
        "id": "9w7i1L8PW7ak"
      },
      "source": [
        "####For em listas"
      ]
    },
    {
      "cell_type": "code",
      "metadata": {
        "id": "1erhMCBOWlau"
      },
      "source": [
        "cor = ['verde', 'amarelo', 'azul', 'cinza', 'vermelho']"
      ],
      "execution_count": null,
      "outputs": []
    },
    {
      "cell_type": "code",
      "metadata": {
        "colab": {
          "base_uri": "https://localhost:8080/"
        },
        "id": "5_8yAogNXBKq",
        "outputId": "0fe3ab4b-8f87-433c-c156-4a794e628fcd"
      },
      "source": [
        "for x in cor:\n",
        "  print(x)"
      ],
      "execution_count": null,
      "outputs": [
        {
          "output_type": "stream",
          "name": "stdout",
          "text": [
            "verde\n",
            "amarelo\n",
            "azul\n",
            "cinza\n",
            "vermelho\n"
          ]
        }
      ]
    },
    {
      "cell_type": "markdown",
      "metadata": {
        "id": "uh4wI-61XVq1"
      },
      "source": [
        "####For em strings"
      ]
    },
    {
      "cell_type": "code",
      "metadata": {
        "colab": {
          "base_uri": "https://localhost:8080/"
        },
        "id": "Bbc7dobVXYGL",
        "outputId": "7ca647d6-7ec7-4336-d6d4-de6dafcb804d"
      },
      "source": [
        "for i in 'pneumoultramicroscopicossilicovulcanoconiótico':\n",
        "  print(i)"
      ],
      "execution_count": null,
      "outputs": [
        {
          "output_type": "stream",
          "name": "stdout",
          "text": [
            "p\n",
            "n\n",
            "e\n",
            "u\n",
            "m\n",
            "o\n",
            "u\n",
            "l\n",
            "t\n",
            "r\n",
            "a\n",
            "m\n",
            "i\n",
            "c\n",
            "r\n",
            "o\n",
            "s\n",
            "c\n",
            "o\n",
            "p\n",
            "i\n",
            "c\n",
            "o\n",
            "s\n",
            "s\n",
            "i\n",
            "l\n",
            "i\n",
            "c\n",
            "o\n",
            "v\n",
            "u\n",
            "l\n",
            "c\n",
            "a\n",
            "n\n",
            "o\n",
            "c\n",
            "o\n",
            "n\n",
            "i\n",
            "ó\n",
            "t\n",
            "i\n",
            "c\n",
            "o\n"
          ]
        }
      ]
    },
    {
      "cell_type": "markdown",
      "metadata": {
        "id": "zu5vuTnFXe3x"
      },
      "source": [
        "####For e break"
      ]
    },
    {
      "cell_type": "code",
      "metadata": {
        "id": "-LS5ZlzyXgmL"
      },
      "source": [
        "numeros = (1, 2, 3, 4, 5, 6, 7, 8, 9, 10)"
      ],
      "execution_count": null,
      "outputs": []
    },
    {
      "cell_type": "code",
      "metadata": {
        "colab": {
          "base_uri": "https://localhost:8080/"
        },
        "id": "bVbjPPeRXkGB",
        "outputId": "cfd9a630-5d8c-44c1-d801-496d9dde525e"
      },
      "source": [
        "for x in numeros:\n",
        "  print(x)"
      ],
      "execution_count": null,
      "outputs": [
        {
          "output_type": "stream",
          "name": "stdout",
          "text": [
            "1\n",
            "2\n",
            "3\n",
            "4\n",
            "5\n",
            "6\n",
            "7\n",
            "8\n",
            "9\n",
            "10\n"
          ]
        }
      ]
    },
    {
      "cell_type": "code",
      "metadata": {
        "id": "9QzfNI94XpgB",
        "colab": {
          "base_uri": "https://localhost:8080/"
        },
        "outputId": "575fc6aa-cda2-49e1-bdc2-6e3b0b63024a"
      },
      "source": [
        "for x in numeros:\n",
        "  print(x)\n",
        "  if x == 7:\n",
        "    break"
      ],
      "execution_count": null,
      "outputs": [
        {
          "output_type": "stream",
          "name": "stdout",
          "text": [
            "1\n",
            "2\n",
            "3\n",
            "4\n",
            "5\n",
            "6\n",
            "7\n"
          ]
        }
      ]
    },
    {
      "cell_type": "markdown",
      "metadata": {
        "id": "sPFDi0Y9nY9U"
      },
      "source": [
        "## Aula 7 - Condições, Loops e Funções Parte II"
      ]
    },
    {
      "cell_type": "markdown",
      "metadata": {
        "id": "i2q1bF2jng6H"
      },
      "source": [
        "###While"
      ]
    },
    {
      "cell_type": "code",
      "metadata": {
        "colab": {
          "base_uri": "https://localhost:8080/"
        },
        "id": "5plG1npAneq_",
        "outputId": "77726382-3bf5-4197-ce37-875bd4bc68d7"
      },
      "source": [
        "num = 1\n",
        "\n",
        "while num < 10:\n",
        "  print(num)\n",
        "  num += 1"
      ],
      "execution_count": null,
      "outputs": [
        {
          "output_type": "stream",
          "name": "stdout",
          "text": [
            "1\n",
            "2\n",
            "3\n",
            "4\n",
            "5\n",
            "6\n",
            "7\n",
            "8\n",
            "9\n"
          ]
        }
      ]
    },
    {
      "cell_type": "markdown",
      "metadata": {
        "id": "wQM4v5-gnwdM"
      },
      "source": [
        "####Break"
      ]
    },
    {
      "cell_type": "code",
      "metadata": {
        "colab": {
          "base_uri": "https://localhost:8080/"
        },
        "id": "pvSf52FvnsMf",
        "outputId": "af5a7dc7-2b46-41c7-e5c1-efc041a3c7cd"
      },
      "source": [
        "num = 1\n",
        "while num < 10:\n",
        "  print(num)\n",
        "  if num == 6:\n",
        "    break\n",
        "  num += 1"
      ],
      "execution_count": null,
      "outputs": [
        {
          "output_type": "stream",
          "name": "stdout",
          "text": [
            "1\n",
            "2\n",
            "3\n",
            "4\n",
            "5\n",
            "6\n"
          ]
        }
      ]
    },
    {
      "cell_type": "markdown",
      "metadata": {
        "id": "aDRwS93Qn1J2"
      },
      "source": [
        "####Continue"
      ]
    },
    {
      "cell_type": "code",
      "metadata": {
        "colab": {
          "base_uri": "https://localhost:8080/"
        },
        "id": "IwfjLIJDnyDw",
        "outputId": "42bd49c8-5e46-4893-facd-e3111902df13"
      },
      "source": [
        "num = 0\n",
        "\n",
        "while num < 21:\n",
        "  num += 1\n",
        "  if num == 12:\n",
        "    continue\n",
        "  print(num)"
      ],
      "execution_count": null,
      "outputs": [
        {
          "output_type": "stream",
          "name": "stdout",
          "text": [
            "1\n",
            "2\n",
            "3\n",
            "4\n",
            "5\n",
            "6\n",
            "7\n",
            "8\n",
            "9\n",
            "10\n",
            "11\n",
            "13\n",
            "14\n",
            "15\n",
            "16\n",
            "17\n",
            "18\n",
            "19\n",
            "20\n",
            "21\n"
          ]
        }
      ]
    },
    {
      "cell_type": "markdown",
      "metadata": {
        "id": "adIMbo8IoAiV"
      },
      "source": [
        "###Range"
      ]
    },
    {
      "cell_type": "code",
      "metadata": {
        "id": "x9CuaFxFoB4w"
      },
      "source": [
        "# Função range - argumentos\n",
        "# range(inicio, termino, salto)"
      ],
      "execution_count": null,
      "outputs": []
    },
    {
      "cell_type": "code",
      "metadata": {
        "colab": {
          "base_uri": "https://localhost:8080/"
        },
        "id": "YJDyMYOToCa7",
        "outputId": "28309ab5-8960-46d3-d145-14a5f3a06dd4"
      },
      "source": [
        "for i in range(1, 21):\n",
        "  print(i)"
      ],
      "execution_count": null,
      "outputs": [
        {
          "output_type": "stream",
          "name": "stdout",
          "text": [
            "1\n",
            "2\n",
            "3\n",
            "4\n",
            "5\n",
            "6\n",
            "7\n",
            "8\n",
            "9\n",
            "10\n",
            "11\n",
            "12\n",
            "13\n",
            "14\n",
            "15\n",
            "16\n",
            "17\n",
            "18\n",
            "19\n",
            "20\n"
          ]
        }
      ]
    },
    {
      "cell_type": "code",
      "metadata": {
        "colab": {
          "base_uri": "https://localhost:8080/"
        },
        "id": "sj58okWyoQL8",
        "outputId": "2f16a6a6-bb65-4aad-ef26-69039fddc316"
      },
      "source": [
        "for i in range(0, 51, 5):\n",
        "  print(i)"
      ],
      "execution_count": null,
      "outputs": [
        {
          "output_type": "stream",
          "name": "stdout",
          "text": [
            "0\n",
            "5\n",
            "10\n",
            "15\n",
            "20\n",
            "25\n",
            "30\n",
            "35\n",
            "40\n",
            "45\n",
            "50\n"
          ]
        }
      ]
    },
    {
      "cell_type": "markdown",
      "metadata": {
        "id": "wEw3zRvfoXCW"
      },
      "source": [
        "###Def"
      ]
    },
    {
      "cell_type": "code",
      "metadata": {
        "id": "j7t5yZDBoYJm"
      },
      "source": [
        "def soma(x,y):\n",
        "  print(x + y)"
      ],
      "execution_count": null,
      "outputs": []
    },
    {
      "cell_type": "code",
      "metadata": {
        "colab": {
          "base_uri": "https://localhost:8080/"
        },
        "id": "ethFH4tvodpf",
        "outputId": "cc3569c6-ef99-4935-ab2e-259ccce9df5f"
      },
      "source": [
        "soma(10,5)"
      ],
      "execution_count": null,
      "outputs": [
        {
          "output_type": "stream",
          "name": "stdout",
          "text": [
            "15\n"
          ]
        }
      ]
    },
    {
      "cell_type": "code",
      "metadata": {
        "colab": {
          "base_uri": "https://localhost:8080/"
        },
        "id": "m4EfdWTIogvI",
        "outputId": "697c1040-22df-4b3e-cd98-0a57eebe337d"
      },
      "source": [
        "soma(50,50)"
      ],
      "execution_count": null,
      "outputs": [
        {
          "output_type": "stream",
          "name": "stdout",
          "text": [
            "100\n"
          ]
        }
      ]
    },
    {
      "cell_type": "code",
      "metadata": {
        "id": "cq2MZTQ7ome1"
      },
      "source": [
        "def imc(peso, altura):\n",
        "  imc = peso/(altura**2)\n",
        "  if imc < 18.5:\n",
        "    print('Magreza')\n",
        "  elif imc >= 18.5 and imc <= 24.9:\n",
        "    print('Normal')\n",
        "  elif imc >= 25.0 and imc <=29.9:\n",
        "    print('Sobrepeso')\n",
        "  elif imc >= 30.0 and imc <= 39.9:\n",
        "    print('Obesidade I')\n",
        "  else:\n",
        "    print('Obesidade II')\n",
        "  return"
      ],
      "execution_count": null,
      "outputs": []
    },
    {
      "cell_type": "code",
      "metadata": {
        "colab": {
          "base_uri": "https://localhost:8080/"
        },
        "id": "6_asokraopXf",
        "outputId": "9608e586-234e-49d6-90a4-0d42aa3c71d0"
      },
      "source": [
        "imc(80, 1.92)"
      ],
      "execution_count": null,
      "outputs": [
        {
          "output_type": "stream",
          "name": "stdout",
          "text": [
            "Normal\n"
          ]
        }
      ]
    },
    {
      "cell_type": "markdown",
      "metadata": {
        "id": "vlpDQJZzos2u"
      },
      "source": [
        "###Funções Anônimas (Lambda)"
      ]
    },
    {
      "cell_type": "code",
      "metadata": {
        "id": "nGd0rUZAov9o"
      },
      "source": [
        "def soma(x, y):\n",
        "  print(x + y)"
      ],
      "execution_count": null,
      "outputs": []
    },
    {
      "cell_type": "code",
      "metadata": {
        "colab": {
          "base_uri": "https://localhost:8080/"
        },
        "id": "nrsuh6HRo0RX",
        "outputId": "83cbc755-53d4-4819-ef3c-3e6b33a45c6c"
      },
      "source": [
        "soma(10, 5)"
      ],
      "execution_count": null,
      "outputs": [
        {
          "output_type": "stream",
          "name": "stdout",
          "text": [
            "15\n"
          ]
        }
      ]
    },
    {
      "cell_type": "code",
      "metadata": {
        "id": "ziHvfR4Io1y8"
      },
      "source": [
        "soma = lambda x, y: x + y"
      ],
      "execution_count": null,
      "outputs": []
    },
    {
      "cell_type": "markdown",
      "metadata": {
        "id": "9EBIMkRYxgP6"
      },
      "source": [
        "##Aula 8 - Módulos\n",
        "Módulos são scripts"
      ]
    },
    {
      "cell_type": "code",
      "metadata": {
        "id": "fP88Rms4xrBa"
      },
      "source": [
        "import math\n",
        "import time\n",
        "import ftplib"
      ],
      "execution_count": null,
      "outputs": []
    },
    {
      "cell_type": "code",
      "metadata": {
        "colab": {
          "base_uri": "https://localhost:8080/"
        },
        "id": "nEyu7bCSx62W",
        "outputId": "a0b4aabe-b3a3-4135-f28e-ae3f0e83dfd8"
      },
      "source": [
        "math.sqrt(9)"
      ],
      "execution_count": null,
      "outputs": [
        {
          "output_type": "execute_result",
          "data": {
            "text/plain": [
              "3.0"
            ]
          },
          "metadata": {},
          "execution_count": 88
        }
      ]
    },
    {
      "cell_type": "markdown",
      "metadata": {
        "id": "DTvM-bT1zTNT"
      },
      "source": [
        "####Importando uma parte do módulo"
      ]
    },
    {
      "cell_type": "code",
      "metadata": {
        "id": "-L76PCehzWaV"
      },
      "source": [
        "from math import factorial\n",
        "from math import acos"
      ],
      "execution_count": null,
      "outputs": []
    },
    {
      "cell_type": "markdown",
      "metadata": {
        "id": "aXDgtD4f0l-6"
      },
      "source": [
        "####Executando os módulos"
      ]
    },
    {
      "cell_type": "code",
      "metadata": {
        "id": "LH54SbPY0qGA"
      },
      "source": [
        "import math"
      ],
      "execution_count": null,
      "outputs": []
    },
    {
      "cell_type": "code",
      "metadata": {
        "colab": {
          "base_uri": "https://localhost:8080/"
        },
        "id": "U_YQOxjx0yho",
        "outputId": "ee061ca9-ea37-4491-f2e0-f14a061f246a"
      },
      "source": [
        "math.sqrt(9)"
      ],
      "execution_count": null,
      "outputs": [
        {
          "output_type": "execute_result",
          "data": {
            "text/plain": [
              "3.0"
            ]
          },
          "metadata": {},
          "execution_count": 93
        }
      ]
    },
    {
      "cell_type": "markdown",
      "metadata": {
        "id": "XJaTCcra2C0H"
      },
      "source": [
        "## Aula 9 Importando pacotes e funções básicas"
      ]
    },
    {
      "cell_type": "markdown",
      "metadata": {
        "id": "UvmhTEad2RGr"
      },
      "source": [
        "### Instalando Pacotes no Google Colab"
      ]
    },
    {
      "cell_type": "code",
      "metadata": {
        "colab": {
          "base_uri": "https://localhost:8080/"
        },
        "id": "2yqqEsx12CaV",
        "outputId": "d01eba89-fb3f-42f8-9b38-1ab0739dd8a0"
      },
      "source": [
        "!pip install seaborn"
      ],
      "execution_count": null,
      "outputs": [
        {
          "output_type": "stream",
          "name": "stdout",
          "text": [
            "Requirement already satisfied: seaborn in /usr/local/lib/python3.7/dist-packages (0.11.1)\n",
            "Requirement already satisfied: scipy>=1.0 in /usr/local/lib/python3.7/dist-packages (from seaborn) (1.4.1)\n",
            "Requirement already satisfied: pandas>=0.23 in /usr/local/lib/python3.7/dist-packages (from seaborn) (1.1.5)\n",
            "Requirement already satisfied: numpy>=1.15 in /usr/local/lib/python3.7/dist-packages (from seaborn) (1.19.5)\n",
            "Requirement already satisfied: matplotlib>=2.2 in /usr/local/lib/python3.7/dist-packages (from seaborn) (3.2.2)\n",
            "Requirement already satisfied: cycler>=0.10 in /usr/local/lib/python3.7/dist-packages (from matplotlib>=2.2->seaborn) (0.10.0)\n",
            "Requirement already satisfied: python-dateutil>=2.1 in /usr/local/lib/python3.7/dist-packages (from matplotlib>=2.2->seaborn) (2.8.2)\n",
            "Requirement already satisfied: pyparsing!=2.0.4,!=2.1.2,!=2.1.6,>=2.0.1 in /usr/local/lib/python3.7/dist-packages (from matplotlib>=2.2->seaborn) (2.4.7)\n",
            "Requirement already satisfied: kiwisolver>=1.0.1 in /usr/local/lib/python3.7/dist-packages (from matplotlib>=2.2->seaborn) (1.3.1)\n",
            "Requirement already satisfied: six in /usr/local/lib/python3.7/dist-packages (from cycler>=0.10->matplotlib>=2.2->seaborn) (1.15.0)\n",
            "Requirement already satisfied: pytz>=2017.2 in /usr/local/lib/python3.7/dist-packages (from pandas>=0.23->seaborn) (2018.9)\n"
          ]
        }
      ]
    },
    {
      "cell_type": "code",
      "metadata": {
        "colab": {
          "base_uri": "https://localhost:8080/"
        },
        "id": "hrKShZqWXXKp",
        "outputId": "3510d0c8-5248-4530-a143-025d79ad1cde"
      },
      "source": [
        "!pip install geopandas"
      ],
      "execution_count": null,
      "outputs": [
        {
          "output_type": "stream",
          "name": "stdout",
          "text": [
            "Collecting geopandas\n",
            "  Downloading geopandas-0.9.0-py2.py3-none-any.whl (994 kB)\n",
            "\u001b[?25l\r\u001b[K     |▎                               | 10 kB 24.7 MB/s eta 0:00:01\r\u001b[K     |▋                               | 20 kB 29.2 MB/s eta 0:00:01\r\u001b[K     |█                               | 30 kB 28.6 MB/s eta 0:00:01\r\u001b[K     |█▎                              | 40 kB 30.7 MB/s eta 0:00:01\r\u001b[K     |█▋                              | 51 kB 33.2 MB/s eta 0:00:01\r\u001b[K     |██                              | 61 kB 35.3 MB/s eta 0:00:01\r\u001b[K     |██▎                             | 71 kB 32.7 MB/s eta 0:00:01\r\u001b[K     |██▋                             | 81 kB 34.3 MB/s eta 0:00:01\r\u001b[K     |███                             | 92 kB 34.3 MB/s eta 0:00:01\r\u001b[K     |███▎                            | 102 kB 35.7 MB/s eta 0:00:01\r\u001b[K     |███▋                            | 112 kB 35.7 MB/s eta 0:00:01\r\u001b[K     |████                            | 122 kB 35.7 MB/s eta 0:00:01\r\u001b[K     |████▎                           | 133 kB 35.7 MB/s eta 0:00:01\r\u001b[K     |████▋                           | 143 kB 35.7 MB/s eta 0:00:01\r\u001b[K     |█████                           | 153 kB 35.7 MB/s eta 0:00:01\r\u001b[K     |█████▎                          | 163 kB 35.7 MB/s eta 0:00:01\r\u001b[K     |█████▋                          | 174 kB 35.7 MB/s eta 0:00:01\r\u001b[K     |██████                          | 184 kB 35.7 MB/s eta 0:00:01\r\u001b[K     |██████▎                         | 194 kB 35.7 MB/s eta 0:00:01\r\u001b[K     |██████▋                         | 204 kB 35.7 MB/s eta 0:00:01\r\u001b[K     |███████                         | 215 kB 35.7 MB/s eta 0:00:01\r\u001b[K     |███████▎                        | 225 kB 35.7 MB/s eta 0:00:01\r\u001b[K     |███████▋                        | 235 kB 35.7 MB/s eta 0:00:01\r\u001b[K     |████████                        | 245 kB 35.7 MB/s eta 0:00:01\r\u001b[K     |████████▎                       | 256 kB 35.7 MB/s eta 0:00:01\r\u001b[K     |████████▋                       | 266 kB 35.7 MB/s eta 0:00:01\r\u001b[K     |█████████                       | 276 kB 35.7 MB/s eta 0:00:01\r\u001b[K     |█████████▎                      | 286 kB 35.7 MB/s eta 0:00:01\r\u001b[K     |█████████▌                      | 296 kB 35.7 MB/s eta 0:00:01\r\u001b[K     |█████████▉                      | 307 kB 35.7 MB/s eta 0:00:01\r\u001b[K     |██████████▏                     | 317 kB 35.7 MB/s eta 0:00:01\r\u001b[K     |██████████▌                     | 327 kB 35.7 MB/s eta 0:00:01\r\u001b[K     |██████████▉                     | 337 kB 35.7 MB/s eta 0:00:01\r\u001b[K     |███████████▏                    | 348 kB 35.7 MB/s eta 0:00:01\r\u001b[K     |███████████▌                    | 358 kB 35.7 MB/s eta 0:00:01\r\u001b[K     |███████████▉                    | 368 kB 35.7 MB/s eta 0:00:01\r\u001b[K     |████████████▏                   | 378 kB 35.7 MB/s eta 0:00:01\r\u001b[K     |████████████▌                   | 389 kB 35.7 MB/s eta 0:00:01\r\u001b[K     |████████████▉                   | 399 kB 35.7 MB/s eta 0:00:01\r\u001b[K     |█████████████▏                  | 409 kB 35.7 MB/s eta 0:00:01\r\u001b[K     |█████████████▌                  | 419 kB 35.7 MB/s eta 0:00:01\r\u001b[K     |█████████████▉                  | 430 kB 35.7 MB/s eta 0:00:01\r\u001b[K     |██████████████▏                 | 440 kB 35.7 MB/s eta 0:00:01\r\u001b[K     |██████████████▌                 | 450 kB 35.7 MB/s eta 0:00:01\r\u001b[K     |██████████████▉                 | 460 kB 35.7 MB/s eta 0:00:01\r\u001b[K     |███████████████▏                | 471 kB 35.7 MB/s eta 0:00:01\r\u001b[K     |███████████████▌                | 481 kB 35.7 MB/s eta 0:00:01\r\u001b[K     |███████████████▉                | 491 kB 35.7 MB/s eta 0:00:01\r\u001b[K     |████████████████▏               | 501 kB 35.7 MB/s eta 0:00:01\r\u001b[K     |████████████████▌               | 512 kB 35.7 MB/s eta 0:00:01\r\u001b[K     |████████████████▉               | 522 kB 35.7 MB/s eta 0:00:01\r\u001b[K     |█████████████████▏              | 532 kB 35.7 MB/s eta 0:00:01\r\u001b[K     |█████████████████▌              | 542 kB 35.7 MB/s eta 0:00:01\r\u001b[K     |█████████████████▉              | 552 kB 35.7 MB/s eta 0:00:01\r\u001b[K     |██████████████████▏             | 563 kB 35.7 MB/s eta 0:00:01\r\u001b[K     |██████████████████▌             | 573 kB 35.7 MB/s eta 0:00:01\r\u001b[K     |██████████████████▊             | 583 kB 35.7 MB/s eta 0:00:01\r\u001b[K     |███████████████████             | 593 kB 35.7 MB/s eta 0:00:01\r\u001b[K     |███████████████████▍            | 604 kB 35.7 MB/s eta 0:00:01\r\u001b[K     |███████████████████▊            | 614 kB 35.7 MB/s eta 0:00:01\r\u001b[K     |████████████████████            | 624 kB 35.7 MB/s eta 0:00:01\r\u001b[K     |████████████████████▍           | 634 kB 35.7 MB/s eta 0:00:01\r\u001b[K     |████████████████████▊           | 645 kB 35.7 MB/s eta 0:00:01\r\u001b[K     |█████████████████████           | 655 kB 35.7 MB/s eta 0:00:01\r\u001b[K     |█████████████████████▍          | 665 kB 35.7 MB/s eta 0:00:01\r\u001b[K     |█████████████████████▊          | 675 kB 35.7 MB/s eta 0:00:01\r\u001b[K     |██████████████████████          | 686 kB 35.7 MB/s eta 0:00:01\r\u001b[K     |██████████████████████▍         | 696 kB 35.7 MB/s eta 0:00:01\r\u001b[K     |██████████████████████▊         | 706 kB 35.7 MB/s eta 0:00:01\r\u001b[K     |███████████████████████         | 716 kB 35.7 MB/s eta 0:00:01\r\u001b[K     |███████████████████████▍        | 727 kB 35.7 MB/s eta 0:00:01\r\u001b[K     |███████████████████████▊        | 737 kB 35.7 MB/s eta 0:00:01\r\u001b[K     |████████████████████████        | 747 kB 35.7 MB/s eta 0:00:01\r\u001b[K     |████████████████████████▍       | 757 kB 35.7 MB/s eta 0:00:01\r\u001b[K     |████████████████████████▊       | 768 kB 35.7 MB/s eta 0:00:01\r\u001b[K     |█████████████████████████       | 778 kB 35.7 MB/s eta 0:00:01\r\u001b[K     |█████████████████████████▍      | 788 kB 35.7 MB/s eta 0:00:01\r\u001b[K     |█████████████████████████▊      | 798 kB 35.7 MB/s eta 0:00:01\r\u001b[K     |██████████████████████████      | 808 kB 35.7 MB/s eta 0:00:01\r\u001b[K     |██████████████████████████▍     | 819 kB 35.7 MB/s eta 0:00:01\r\u001b[K     |██████████████████████████▊     | 829 kB 35.7 MB/s eta 0:00:01\r\u001b[K     |███████████████████████████     | 839 kB 35.7 MB/s eta 0:00:01\r\u001b[K     |███████████████████████████▍    | 849 kB 35.7 MB/s eta 0:00:01\r\u001b[K     |███████████████████████████▊    | 860 kB 35.7 MB/s eta 0:00:01\r\u001b[K     |████████████████████████████    | 870 kB 35.7 MB/s eta 0:00:01\r\u001b[K     |████████████████████████████▎   | 880 kB 35.7 MB/s eta 0:00:01\r\u001b[K     |████████████████████████████▋   | 890 kB 35.7 MB/s eta 0:00:01\r\u001b[K     |█████████████████████████████   | 901 kB 35.7 MB/s eta 0:00:01\r\u001b[K     |█████████████████████████████▎  | 911 kB 35.7 MB/s eta 0:00:01\r\u001b[K     |█████████████████████████████▋  | 921 kB 35.7 MB/s eta 0:00:01\r\u001b[K     |██████████████████████████████  | 931 kB 35.7 MB/s eta 0:00:01\r\u001b[K     |██████████████████████████████▎ | 942 kB 35.7 MB/s eta 0:00:01\r\u001b[K     |██████████████████████████████▋ | 952 kB 35.7 MB/s eta 0:00:01\r\u001b[K     |███████████████████████████████ | 962 kB 35.7 MB/s eta 0:00:01\r\u001b[K     |███████████████████████████████▎| 972 kB 35.7 MB/s eta 0:00:01\r\u001b[K     |███████████████████████████████▋| 983 kB 35.7 MB/s eta 0:00:01\r\u001b[K     |████████████████████████████████| 993 kB 35.7 MB/s eta 0:00:01\r\u001b[K     |████████████████████████████████| 994 kB 35.7 MB/s \n",
            "\u001b[?25hRequirement already satisfied: pandas>=0.24.0 in /usr/local/lib/python3.7/dist-packages (from geopandas) (1.1.5)\n",
            "Collecting pyproj>=2.2.0\n",
            "  Downloading pyproj-3.2.0-cp37-cp37m-manylinux_2_24_x86_64.whl (6.3 MB)\n",
            "\u001b[K     |████████████████████████████████| 6.3 MB 32.2 MB/s \n",
            "\u001b[?25hCollecting fiona>=1.8\n",
            "  Downloading Fiona-1.8.20-cp37-cp37m-manylinux1_x86_64.whl (15.4 MB)\n",
            "\u001b[K     |████████████████████████████████| 15.4 MB 35 kB/s \n",
            "\u001b[?25hRequirement already satisfied: shapely>=1.6 in /usr/local/lib/python3.7/dist-packages (from geopandas) (1.7.1)\n",
            "Requirement already satisfied: six>=1.7 in /usr/local/lib/python3.7/dist-packages (from fiona>=1.8->geopandas) (1.15.0)\n",
            "Requirement already satisfied: certifi in /usr/local/lib/python3.7/dist-packages (from fiona>=1.8->geopandas) (2021.5.30)\n",
            "Collecting click-plugins>=1.0\n",
            "  Downloading click_plugins-1.1.1-py2.py3-none-any.whl (7.5 kB)\n",
            "Requirement already satisfied: click>=4.0 in /usr/local/lib/python3.7/dist-packages (from fiona>=1.8->geopandas) (7.1.2)\n",
            "Requirement already satisfied: setuptools in /usr/local/lib/python3.7/dist-packages (from fiona>=1.8->geopandas) (57.4.0)\n",
            "Collecting munch\n",
            "  Downloading munch-2.5.0-py2.py3-none-any.whl (10 kB)\n",
            "Collecting cligj>=0.5\n",
            "  Downloading cligj-0.7.2-py3-none-any.whl (7.1 kB)\n",
            "Requirement already satisfied: attrs>=17 in /usr/local/lib/python3.7/dist-packages (from fiona>=1.8->geopandas) (21.2.0)\n",
            "Requirement already satisfied: python-dateutil>=2.7.3 in /usr/local/lib/python3.7/dist-packages (from pandas>=0.24.0->geopandas) (2.8.2)\n",
            "Requirement already satisfied: pytz>=2017.2 in /usr/local/lib/python3.7/dist-packages (from pandas>=0.24.0->geopandas) (2018.9)\n",
            "Requirement already satisfied: numpy>=1.15.4 in /usr/local/lib/python3.7/dist-packages (from pandas>=0.24.0->geopandas) (1.19.5)\n",
            "Installing collected packages: munch, cligj, click-plugins, pyproj, fiona, geopandas\n",
            "Successfully installed click-plugins-1.1.1 cligj-0.7.2 fiona-1.8.20 geopandas-0.9.0 munch-2.5.0 pyproj-3.2.0\n"
          ]
        }
      ]
    },
    {
      "cell_type": "code",
      "metadata": {
        "colab": {
          "base_uri": "https://localhost:8080/"
        },
        "id": "1-quGNG1XlmR",
        "outputId": "411f08b1-2005-462a-9dde-88993bc06602"
      },
      "source": [
        "!pip install --upgrade seaborn"
      ],
      "execution_count": null,
      "outputs": [
        {
          "output_type": "stream",
          "name": "stdout",
          "text": [
            "Requirement already satisfied: seaborn in /usr/local/lib/python3.7/dist-packages (0.11.1)\n",
            "Collecting seaborn\n",
            "  Downloading seaborn-0.11.2-py3-none-any.whl (292 kB)\n",
            "\u001b[?25l\r\u001b[K     |█▏                              | 10 kB 22.7 MB/s eta 0:00:01\r\u001b[K     |██▎                             | 20 kB 28.5 MB/s eta 0:00:01\r\u001b[K     |███▍                            | 30 kB 32.0 MB/s eta 0:00:01\r\u001b[K     |████▌                           | 40 kB 35.3 MB/s eta 0:00:01\r\u001b[K     |█████▋                          | 51 kB 36.3 MB/s eta 0:00:01\r\u001b[K     |██████▊                         | 61 kB 38.0 MB/s eta 0:00:01\r\u001b[K     |███████▉                        | 71 kB 28.4 MB/s eta 0:00:01\r\u001b[K     |█████████                       | 81 kB 28.9 MB/s eta 0:00:01\r\u001b[K     |██████████                      | 92 kB 29.4 MB/s eta 0:00:01\r\u001b[K     |███████████▏                    | 102 kB 31.1 MB/s eta 0:00:01\r\u001b[K     |████████████▎                   | 112 kB 31.1 MB/s eta 0:00:01\r\u001b[K     |█████████████▍                  | 122 kB 31.1 MB/s eta 0:00:01\r\u001b[K     |██████████████▌                 | 133 kB 31.1 MB/s eta 0:00:01\r\u001b[K     |███████████████▊                | 143 kB 31.1 MB/s eta 0:00:01\r\u001b[K     |████████████████▉               | 153 kB 31.1 MB/s eta 0:00:01\r\u001b[K     |██████████████████              | 163 kB 31.1 MB/s eta 0:00:01\r\u001b[K     |███████████████████             | 174 kB 31.1 MB/s eta 0:00:01\r\u001b[K     |████████████████████▏           | 184 kB 31.1 MB/s eta 0:00:01\r\u001b[K     |█████████████████████▎          | 194 kB 31.1 MB/s eta 0:00:01\r\u001b[K     |██████████████████████▍         | 204 kB 31.1 MB/s eta 0:00:01\r\u001b[K     |███████████████████████▌        | 215 kB 31.1 MB/s eta 0:00:01\r\u001b[K     |████████████████████████▋       | 225 kB 31.1 MB/s eta 0:00:01\r\u001b[K     |█████████████████████████▊      | 235 kB 31.1 MB/s eta 0:00:01\r\u001b[K     |██████████████████████████▉     | 245 kB 31.1 MB/s eta 0:00:01\r\u001b[K     |████████████████████████████    | 256 kB 31.1 MB/s eta 0:00:01\r\u001b[K     |█████████████████████████████   | 266 kB 31.1 MB/s eta 0:00:01\r\u001b[K     |██████████████████████████████▏ | 276 kB 31.1 MB/s eta 0:00:01\r\u001b[K     |███████████████████████████████▍| 286 kB 31.1 MB/s eta 0:00:01\r\u001b[K     |████████████████████████████████| 292 kB 31.1 MB/s \n",
            "\u001b[?25hRequirement already satisfied: numpy>=1.15 in /usr/local/lib/python3.7/dist-packages (from seaborn) (1.19.5)\n",
            "Requirement already satisfied: pandas>=0.23 in /usr/local/lib/python3.7/dist-packages (from seaborn) (1.1.5)\n",
            "Requirement already satisfied: matplotlib>=2.2 in /usr/local/lib/python3.7/dist-packages (from seaborn) (3.2.2)\n",
            "Requirement already satisfied: scipy>=1.0 in /usr/local/lib/python3.7/dist-packages (from seaborn) (1.4.1)\n",
            "Requirement already satisfied: kiwisolver>=1.0.1 in /usr/local/lib/python3.7/dist-packages (from matplotlib>=2.2->seaborn) (1.3.1)\n",
            "Requirement already satisfied: pyparsing!=2.0.4,!=2.1.2,!=2.1.6,>=2.0.1 in /usr/local/lib/python3.7/dist-packages (from matplotlib>=2.2->seaborn) (2.4.7)\n",
            "Requirement already satisfied: cycler>=0.10 in /usr/local/lib/python3.7/dist-packages (from matplotlib>=2.2->seaborn) (0.10.0)\n",
            "Requirement already satisfied: python-dateutil>=2.1 in /usr/local/lib/python3.7/dist-packages (from matplotlib>=2.2->seaborn) (2.8.2)\n",
            "Requirement already satisfied: six in /usr/local/lib/python3.7/dist-packages (from cycler>=0.10->matplotlib>=2.2->seaborn) (1.15.0)\n",
            "Requirement already satisfied: pytz>=2017.2 in /usr/local/lib/python3.7/dist-packages (from pandas>=0.23->seaborn) (2018.9)\n",
            "Installing collected packages: seaborn\n",
            "  Attempting uninstall: seaborn\n",
            "    Found existing installation: seaborn 0.11.1\n",
            "    Uninstalling seaborn-0.11.1:\n",
            "      Successfully uninstalled seaborn-0.11.1\n",
            "Successfully installed seaborn-0.11.2\n"
          ]
        }
      ]
    },
    {
      "cell_type": "code",
      "metadata": {
        "colab": {
          "base_uri": "https://localhost:8080/"
        },
        "id": "VZ7h9t1JYNJ2",
        "outputId": "db32cb6c-3888-4b40-e176-3403639a1252"
      },
      "source": [
        "!pip install seaborn==0.9.0"
      ],
      "execution_count": null,
      "outputs": [
        {
          "output_type": "stream",
          "name": "stdout",
          "text": [
            "Collecting seaborn==0.9.0\n",
            "  Downloading seaborn-0.9.0-py3-none-any.whl (208 kB)\n",
            "\u001b[?25l\r\u001b[K     |█▋                              | 10 kB 21.9 MB/s eta 0:00:01\r\u001b[K     |███▏                            | 20 kB 28.6 MB/s eta 0:00:01\r\u001b[K     |████▊                           | 30 kB 35.0 MB/s eta 0:00:01\r\u001b[K     |██████▎                         | 40 kB 36.9 MB/s eta 0:00:01\r\u001b[K     |███████▉                        | 51 kB 37.0 MB/s eta 0:00:01\r\u001b[K     |█████████▌                      | 61 kB 32.1 MB/s eta 0:00:01\r\u001b[K     |███████████                     | 71 kB 26.0 MB/s eta 0:00:01\r\u001b[K     |████████████▋                   | 81 kB 25.2 MB/s eta 0:00:01\r\u001b[K     |██████████████▏                 | 92 kB 24.8 MB/s eta 0:00:01\r\u001b[K     |███████████████▊                | 102 kB 26.6 MB/s eta 0:00:01\r\u001b[K     |█████████████████▎              | 112 kB 26.6 MB/s eta 0:00:01\r\u001b[K     |███████████████████             | 122 kB 26.6 MB/s eta 0:00:01\r\u001b[K     |████████████████████▌           | 133 kB 26.6 MB/s eta 0:00:01\r\u001b[K     |██████████████████████          | 143 kB 26.6 MB/s eta 0:00:01\r\u001b[K     |███████████████████████▋        | 153 kB 26.6 MB/s eta 0:00:01\r\u001b[K     |█████████████████████████▏      | 163 kB 26.6 MB/s eta 0:00:01\r\u001b[K     |██████████████████████████▊     | 174 kB 26.6 MB/s eta 0:00:01\r\u001b[K     |████████████████████████████▍   | 184 kB 26.6 MB/s eta 0:00:01\r\u001b[K     |██████████████████████████████  | 194 kB 26.6 MB/s eta 0:00:01\r\u001b[K     |███████████████████████████████▌| 204 kB 26.6 MB/s eta 0:00:01\r\u001b[K     |████████████████████████████████| 208 kB 26.6 MB/s \n",
            "\u001b[?25hRequirement already satisfied: matplotlib>=1.4.3 in /usr/local/lib/python3.7/dist-packages (from seaborn==0.9.0) (3.2.2)\n",
            "Requirement already satisfied: numpy>=1.9.3 in /usr/local/lib/python3.7/dist-packages (from seaborn==0.9.0) (1.19.5)\n",
            "Requirement already satisfied: scipy>=0.14.0 in /usr/local/lib/python3.7/dist-packages (from seaborn==0.9.0) (1.4.1)\n",
            "Requirement already satisfied: pandas>=0.15.2 in /usr/local/lib/python3.7/dist-packages (from seaborn==0.9.0) (1.1.5)\n",
            "Requirement already satisfied: python-dateutil>=2.1 in /usr/local/lib/python3.7/dist-packages (from matplotlib>=1.4.3->seaborn==0.9.0) (2.8.2)\n",
            "Requirement already satisfied: cycler>=0.10 in /usr/local/lib/python3.7/dist-packages (from matplotlib>=1.4.3->seaborn==0.9.0) (0.10.0)\n",
            "Requirement already satisfied: kiwisolver>=1.0.1 in /usr/local/lib/python3.7/dist-packages (from matplotlib>=1.4.3->seaborn==0.9.0) (1.3.1)\n",
            "Requirement already satisfied: pyparsing!=2.0.4,!=2.1.2,!=2.1.6,>=2.0.1 in /usr/local/lib/python3.7/dist-packages (from matplotlib>=1.4.3->seaborn==0.9.0) (2.4.7)\n",
            "Requirement already satisfied: six in /usr/local/lib/python3.7/dist-packages (from cycler>=0.10->matplotlib>=1.4.3->seaborn==0.9.0) (1.15.0)\n",
            "Requirement already satisfied: pytz>=2017.2 in /usr/local/lib/python3.7/dist-packages (from pandas>=0.15.2->seaborn==0.9.0) (2018.9)\n",
            "Installing collected packages: seaborn\n",
            "  Attempting uninstall: seaborn\n",
            "    Found existing installation: seaborn 0.11.2\n",
            "    Uninstalling seaborn-0.11.2:\n",
            "      Successfully uninstalled seaborn-0.11.2\n",
            "Successfully installed seaborn-0.9.0\n"
          ]
        }
      ]
    },
    {
      "cell_type": "markdown",
      "metadata": {
        "id": "xKVX-VP0ZYg2"
      },
      "source": [
        "####Importando Pacotes em Python\n"
      ]
    },
    {
      "cell_type": "code",
      "metadata": {
        "id": "eqbQ7r_uZavu"
      },
      "source": [
        "import pandas as pd\n",
        "import numpy as np"
      ],
      "execution_count": null,
      "outputs": []
    },
    {
      "cell_type": "code",
      "metadata": {
        "colab": {
          "base_uri": "https://localhost:8080/",
          "height": 163
        },
        "id": "xVEuo_3uZhSy",
        "outputId": "701fc2eb-7a5a-41ab-9cb6-783aa9b8ba73"
      },
      "source": [
        "pandas.read_csv('')"
      ],
      "execution_count": null,
      "outputs": [
        {
          "output_type": "error",
          "ename": "NameError",
          "evalue": "ignored",
          "traceback": [
            "\u001b[0;31m---------------------------------------------------------------------------\u001b[0m",
            "\u001b[0;31mNameError\u001b[0m                                 Traceback (most recent call last)",
            "\u001b[0;32m<ipython-input-5-67e409a025e0>\u001b[0m in \u001b[0;36m<module>\u001b[0;34m()\u001b[0m\n\u001b[0;32m----> 1\u001b[0;31m \u001b[0mpandas\u001b[0m\u001b[0;34m.\u001b[0m\u001b[0mread_csv\u001b[0m\u001b[0;34m(\u001b[0m\u001b[0;34m''\u001b[0m\u001b[0;34m)\u001b[0m\u001b[0;34m\u001b[0m\u001b[0;34m\u001b[0m\u001b[0m\n\u001b[0m",
            "\u001b[0;31mNameError\u001b[0m: name 'pandas' is not defined"
          ]
        }
      ]
    },
    {
      "cell_type": "code",
      "metadata": {
        "id": "Euup3938Znz-",
        "colab": {
          "base_uri": "https://localhost:8080/",
          "height": 282
        },
        "outputId": "1dec6948-88ae-481c-daab-244fbd811ec7"
      },
      "source": [
        "np.T"
      ],
      "execution_count": null,
      "outputs": [
        {
          "output_type": "error",
          "ename": "AttributeError",
          "evalue": "ignored",
          "traceback": [
            "\u001b[0;31m---------------------------------------------------------------------------\u001b[0m",
            "\u001b[0;31mAttributeError\u001b[0m                            Traceback (most recent call last)",
            "\u001b[0;32m<ipython-input-6-fc24d701b2c0>\u001b[0m in \u001b[0;36m<module>\u001b[0;34m()\u001b[0m\n\u001b[0;32m----> 1\u001b[0;31m \u001b[0mnp\u001b[0m\u001b[0;34m.\u001b[0m\u001b[0mT\u001b[0m\u001b[0;34m\u001b[0m\u001b[0;34m\u001b[0m\u001b[0m\n\u001b[0m",
            "\u001b[0;32m/usr/local/lib/python3.7/dist-packages/numpy/__init__.py\u001b[0m in \u001b[0;36m__getattr__\u001b[0;34m(attr)\u001b[0m\n\u001b[1;32m    213\u001b[0m             \u001b[0;32melse\u001b[0m\u001b[0;34m:\u001b[0m\u001b[0;34m\u001b[0m\u001b[0;34m\u001b[0m\u001b[0m\n\u001b[1;32m    214\u001b[0m                 raise AttributeError(\"module {!r} has no attribute \"\n\u001b[0;32m--> 215\u001b[0;31m                                      \"{!r}\".format(__name__, attr))\n\u001b[0m\u001b[1;32m    216\u001b[0m \u001b[0;34m\u001b[0m\u001b[0m\n\u001b[1;32m    217\u001b[0m         \u001b[0;32mdef\u001b[0m \u001b[0m__dir__\u001b[0m\u001b[0;34m(\u001b[0m\u001b[0;34m)\u001b[0m\u001b[0;34m:\u001b[0m\u001b[0;34m\u001b[0m\u001b[0;34m\u001b[0m\u001b[0m\n",
            "\u001b[0;31mAttributeError\u001b[0m: module 'numpy' has no attribute 'T'"
          ]
        }
      ]
    }
  ]
}